{
 "cells": [
  {
   "cell_type": "code",
   "execution_count": 25,
   "id": "0e00fe46",
   "metadata": {},
   "outputs": [],
   "source": [
    "from dataclasses import dataclass\n",
    "from typing import ClassVar\n",
    "@dataclass\n",
    "class Animal:\n",
    "    name : str\n",
    "    age: int\n",
    "    count : ClassVar[int] = 0 #this is now static variable, shared across all instances\n",
    "    def speak(self) -> str:\n",
    "        return f\"{self.name} says hello!\"\n",
    "    \n",
    "    def isold(self) -> bool:\n",
    "        return self.age > 10\n",
    "    def __post_init__(self):\n",
    "        Animal.count += 1\n",
    "\n",
    "    @staticmethod\n",
    "    def print_coutn():\n",
    "        print(f\"Total animals created: {Animal.count}\")"
   ]
  },
  {
   "cell_type": "code",
   "execution_count": 26,
   "id": "a4df21da",
   "metadata": {},
   "outputs": [
    {
     "name": "stdout",
     "output_type": "stream",
     "text": [
      "Total animals created: 2\n"
     ]
    }
   ],
   "source": [
    "a = Animal(name=\"Leo\", age=12)\n",
    "b = Animal(name=\"Milo\", age=5)\n",
    "# a.print_coutn()\n",
    "Animal.print_coutn()  # Accessing the static variable through the class"
   ]
  },
  {
   "cell_type": "code",
   "execution_count": null,
   "id": "0f870fd0",
   "metadata": {},
   "outputs": [],
   "source": []
  }
 ],
 "metadata": {
  "kernelspec": {
   "display_name": "OpenAIsdk",
   "language": "python",
   "name": "python3"
  },
  "language_info": {
   "codemirror_mode": {
    "name": "ipython",
    "version": 3
   },
   "file_extension": ".py",
   "mimetype": "text/x-python",
   "name": "python",
   "nbconvert_exporter": "python",
   "pygments_lexer": "ipython3",
   "version": "3.12.3"
  }
 },
 "nbformat": 4,
 "nbformat_minor": 5
}
