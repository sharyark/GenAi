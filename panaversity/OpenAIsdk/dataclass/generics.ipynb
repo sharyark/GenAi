{
 "cells": [
  {
   "cell_type": "markdown",
   "id": "1dd41a11",
   "metadata": {},
   "source": [
    "## -----------------------------callables------------------------"
   ]
  },
  {
   "cell_type": "code",
   "execution_count": 3,
   "id": "67ede894",
   "metadata": {},
   "outputs": [],
   "source": [
    "# anything that is called using ()\n",
    "# we can specity the variable parameters is callabel using type hint in python\n",
    "\n",
    "from typing import Callable\n",
    "Myfunciton = Callable[[int, int], int] # this means that MyFunction is a callable that takes two integers and returns an integer"
   ]
  },
  {
   "cell_type": "code",
   "execution_count": 5,
   "id": "c5d89f9b",
   "metadata": {},
   "outputs": [],
   "source": [
    "Myfunciton = lambda x, y: x + y # this is a lambda function that takes two integers and returns their sum"
   ]
  },
  {
   "cell_type": "code",
   "execution_count": 7,
   "id": "9a3dd639",
   "metadata": {},
   "outputs": [
    {
     "data": {
      "text/plain": [
       "3"
      ]
     },
     "execution_count": 7,
     "metadata": {},
     "output_type": "execute_result"
    }
   ],
   "source": [
    "Myfunciton(1, 2) # this will return 3 if the function is defined to add the two integers"
   ]
  },
  {
   "cell_type": "code",
   "execution_count": 9,
   "id": "fafe96a0",
   "metadata": {},
   "outputs": [],
   "source": [
    "from dataclasses import dataclass\n",
    "from typing import Callable"
   ]
  },
  {
   "cell_type": "code",
   "execution_count": 24,
   "id": "a01de4fa",
   "metadata": {},
   "outputs": [],
   "source": [
    "@dataclass\n",
    "class Calculator:\n",
    "    operation: Callable[[int, int], int]\n",
    "\n",
    "    def calculate(self, a: int, b: int) -> int:\n",
    "        return self.operation(a, b)\n",
    "\n",
    "    @classmethod\n",
    "    def add(cls,x: int, y: int) -> int:\n",
    "        return x + y\n",
    "    "
   ]
  },
  {
   "cell_type": "code",
   "execution_count": 25,
   "id": "b056f57d",
   "metadata": {},
   "outputs": [],
   "source": [
    "obj = Calculator(operation=Calculator.add)"
   ]
  },
  {
   "cell_type": "code",
   "execution_count": 27,
   "id": "2514f2a4",
   "metadata": {},
   "outputs": [
    {
     "data": {
      "text/plain": [
       "3"
      ]
     },
     "execution_count": 27,
     "metadata": {},
     "output_type": "execute_result"
    }
   ],
   "source": [
    "obj.calculate(1, 2)  # This will return 3, as it uses the add method defined in the Calculator class"
   ]
  },
  {
   "cell_type": "markdown",
   "id": "fe22976c",
   "metadata": {},
   "source": [
    "## --------------------------------------Generics------------------------"
   ]
  },
  {
   "cell_type": "code",
   "execution_count": 32,
   "id": "39c6c1e7",
   "metadata": {},
   "outputs": [
    {
     "data": {
      "text/plain": [
       "5"
      ]
     },
     "execution_count": 32,
     "metadata": {},
     "output_type": "execute_result"
    }
   ],
   "source": [
    "#generics let you statically type checking \n",
    "from typing import TypeVar\n",
    "T = TypeVar('T')  # Declare a type variable\n",
    "\n",
    "def generic_function(x: T) -> T:\n",
    "    return x  # This function can accept any type and return the same type\n",
    "\n",
    "generic_function(5)  # Returns 5, type is int"
   ]
  },
  {
   "cell_type": "code",
   "execution_count": 34,
   "id": "ded36d30",
   "metadata": {},
   "outputs": [],
   "source": [
    "from typing import List\n",
    "@dataclass\n",
    "class Name:\n",
    "    names : List[T] # This can hold a list of any type\n",
    "    def add_name(self, name: T) -> None:\n",
    "        self.names.append(name)\n",
    "    def get_names(self) -> List[T]:\n",
    "        return self.names"
   ]
  },
  {
   "cell_type": "code",
   "execution_count": 37,
   "id": "e3764e40",
   "metadata": {},
   "outputs": [
    {
     "name": "stdout",
     "output_type": "stream",
     "text": [
      "['HR', 'Finance']\n"
     ]
    }
   ],
   "source": [
    "department = Name(names=[])\n",
    "department.add_name(\"HR\")\n",
    "department.add_name(\"Finance\")\n",
    "print(department.get_names())  # This will print the list of names added to the department"
   ]
  },
  {
   "cell_type": "code",
   "execution_count": null,
   "id": "c073d5f6",
   "metadata": {},
   "outputs": [],
   "source": []
  }
 ],
 "metadata": {
  "kernelspec": {
   "display_name": "OpenAIsdk",
   "language": "python",
   "name": "python3"
  },
  "language_info": {
   "codemirror_mode": {
    "name": "ipython",
    "version": 3
   },
   "file_extension": ".py",
   "mimetype": "text/x-python",
   "name": "python",
   "nbconvert_exporter": "python",
   "pygments_lexer": "ipython3",
   "version": "3.12.3"
  }
 },
 "nbformat": 4,
 "nbformat_minor": 5
}
