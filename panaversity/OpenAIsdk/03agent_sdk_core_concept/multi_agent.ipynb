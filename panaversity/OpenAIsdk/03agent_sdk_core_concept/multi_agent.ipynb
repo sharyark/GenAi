{
 "cells": [
  {
   "cell_type": "code",
   "execution_count": 1,
   "id": "dfb4b183",
   "metadata": {},
   "outputs": [],
   "source": [
    "from agents import Agent, Runner, AsyncOpenAI, OpenAIChatCompletionsModel, set_tracing_disabled,function_tool\n",
    "from agents.extensions.models.litellm_model import LitellmModel\n",
    "\n",
    "from dotenv import load_dotenv\n",
    "import os\n",
    "load_dotenv()\n",
    "gemini_api_key = os.getenv(\"GOOGLE_API_KEY\")\n",
    "\n",
    "BASE_URL = os.getenv(\"EXAMPLE_BASE_URL\") or \"https://generativelanguage.googleapis.com/v1beta/\"\n",
    "API_KEY = os.getenv(\"EXAMPLE_API_KEY\") or gemini_api_key\n",
    "MODEL_NAME = os.getenv(\"EXAMPLE_MODEL_NAME\") or \"gemini-2.0-flash\"\n",
    "# print(API_KEY)\n",
    "import nest_asyncio #this is needed to run async code in Jupyter notebooks\n",
    "nest_asyncio.apply()\n",
    "client = AsyncOpenAI(base_url=BASE_URL, api_key=API_KEY)\n",
    "set_tracing_disabled(disabled=True)"
   ]
  },
  {
   "cell_type": "markdown",
   "id": "e79e3e6a",
   "metadata": {},
   "source": [
    "## this is main agent will handoff work to other related agents"
   ]
  },
  {
   "cell_type": "code",
   "execution_count": null,
   "id": "886eca1c",
   "metadata": {},
   "outputs": [],
   "source": []
  },
  {
   "cell_type": "markdown",
   "id": "f2564efe",
   "metadata": {},
   "source": [
    "## subagent"
   ]
  },
  {
   "cell_type": "code",
   "execution_count": null,
   "id": "e120d31e",
   "metadata": {},
   "outputs": [],
   "source": [
    "@function_tool\n",
    "def turn_right(degrees: int) -> str:\n",
    "    \"\"\"turn right or right...\"\"\"\n",
    "    return f\"Turning right by {degrees} \"\n",
    "@function_tool\n",
    "def turn_left(degrees: int) -> str:\n",
    "    return f\"Turning left by {degrees} degrees.\"\n",
    "@function_tool\n",
    "def move_forward(distance: int) -> str:\n",
    "    return f\"Moving forward by {distance} units.\"\n",
    "@function_tool\n",
    "def move_backward(distance: int) -> str:\n",
    "    return f\"Moving backward by {distance} units.\"\n",
    "\n",
    "# subagent1\n",
    "wheel_control_agent = Agent(\n",
    "    model=OpenAIChatCompletionsModel(model=MODEL_NAME,openai_client=client),\n",
    "    name=\"wheel_control_agent\",\n",
    "    instructions=\"you are an expert in controlling the wheels of a robot. You can move the robot forward, backward, turn left, and turn right. You understand commands related to movement and can\",\n",
    "    tools=[turn_right, turn_left, move_forward, move_backward],\n",
    "    handoff_description=\"Use this agent to control the robot's wheels based on movement commands.\")"
   ]
  },
  {
   "cell_type": "code",
   "execution_count": 13,
   "id": "47b3f8ba",
   "metadata": {},
   "outputs": [],
   "source": [
    "@function_tool\n",
    "def fan_on(temp : str) -> str:\n",
    "    if temp > \"75\":\n",
    "        return \"Turning the fan on.\"\n",
    "    else:\n",
    "        return \"The temperature is comfortable, no need to turn on the fan.\"\n",
    "@function_tool\n",
    "def fan_off(temp : str) -> str:\n",
    "    if temp < \"70\":\n",
    "        return \"Turning the fan off.\"\n",
    "    else:\n",
    "        return \"The temperature is still high, no need to turn off the fan.\"\n",
    "\n",
    "# subagent2\n",
    "enviroment_control_agent = Agent(\n",
    "    model=OpenAIChatCompletionsModel(model=MODEL_NAME,openai_client=client),\n",
    "    name=\"environment_control_agent\",\n",
    "    instructions=\"you are an expert in controlling the environment of a robot. You can adjust temperature \",\n",
    "    tools=[fan_on, fan_off],\n",
    "    handoff_description=\"Use this agent to control the robot's environment based on environmental commands.\")"
   ]
  },
  {
   "cell_type": "code",
   "execution_count": 14,
   "id": "d2085e68",
   "metadata": {},
   "outputs": [],
   "source": [
    "mainAgetn = Agent(\n",
    "    model=OpenAIChatCompletionsModel(model=MODEL_NAME,openai_client=client),\n",
    "    name=\"supervisor\",\n",
    "    instructions=\"you are main agent \",\n",
    "    handoffs=[wheel_control_agent,enviroment_control_agent]\n",
    ")"
   ]
  },
  {
   "cell_type": "code",
   "execution_count": null,
   "id": "d9a00fc9",
   "metadata": {},
   "outputs": [],
   "source": [
    "result = await Runner.run(\n",
    "    mainAgetn,\n",
    "    \"turn the robot 20 degree right \",\n",
    ")"
   ]
  },
  {
   "cell_type": "code",
   "execution_count": 16,
   "id": "0ef8419f",
   "metadata": {},
   "outputs": [
    {
     "data": {
      "text/plain": [
       "'OK. I have turned the robot 20 degrees to the right.\\n'"
      ]
     },
     "execution_count": 16,
     "metadata": {},
     "output_type": "execute_result"
    }
   ],
   "source": [
    "result.final_output"
   ]
  },
  {
   "cell_type": "code",
   "execution_count": 17,
   "id": "16c126ee",
   "metadata": {},
   "outputs": [
    {
     "name": "stdout",
     "output_type": "stream",
     "text": [
      "['__abstractmethods__', '__annotations__', '__class__', '__dataclass_fields__', '__dataclass_params__', '__delattr__', '__dict__', '__dir__', '__doc__', '__eq__', '__format__', '__ge__', '__getattribute__', '__getstate__', '__gt__', '__hash__', '__init__', '__init_subclass__', '__le__', '__lt__', '__match_args__', '__module__', '__ne__', '__new__', '__reduce__', '__reduce_ex__', '__repr__', '__setattr__', '__sizeof__', '__slots__', '__str__', '__subclasshook__', '__weakref__', '_abc_impl', '_last_agent', 'context_wrapper', 'final_output', 'final_output_as', 'input', 'input_guardrail_results', 'last_agent', 'last_response_id', 'new_items', 'output_guardrail_results', 'raw_responses', 'to_input_list']\n"
     ]
    }
   ],
   "source": [
    "print(dir(result)) "
   ]
  },
  {
   "cell_type": "code",
   "execution_count": null,
   "id": "8faa4587",
   "metadata": {},
   "outputs": [],
   "source": []
  }
 ],
 "metadata": {
  "kernelspec": {
   "display_name": "OpenAIsdk",
   "language": "python",
   "name": "python3"
  },
  "language_info": {
   "codemirror_mode": {
    "name": "ipython",
    "version": 3
   },
   "file_extension": ".py",
   "mimetype": "text/x-python",
   "name": "python",
   "nbconvert_exporter": "python",
   "pygments_lexer": "ipython3",
   "version": "3.12.3"
  }
 },
 "nbformat": 4,
 "nbformat_minor": 5
}
