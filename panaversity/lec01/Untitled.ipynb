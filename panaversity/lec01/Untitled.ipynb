{
 "cells": [
  {
   "cell_type": "code",
   "execution_count": 36,
   "id": "de4d3a27-495f-4a72-ae3d-35013d8801a1",
   "metadata": {},
   "outputs": [
    {
     "name": "stderr",
     "output_type": "stream",
     "text": [
      "/home/sharyar/Desktop/Aritificial_Intelligence/genai/lib/python3.12/site-packages/tqdm/auto.py:21: TqdmWarning: IProgress not found. Please update jupyter and ipywidgets. See https://ipywidgets.readthedocs.io/en/stable/user_install.html\n",
      "  from .autonotebook import tqdm as notebook_tqdm\n"
     ]
    }
   ],
   "source": [
    "import os\n",
    "from google import genai\n",
    "import google.generativeai as genai\n"
   ]
  },
  {
   "cell_type": "code",
   "execution_count": 43,
   "id": "c77adc6b-6579-4612-8779-657e7f1711d1",
   "metadata": {},
   "outputs": [],
   "source": [
    "!pip install -U -q \"google-generativeai>=0.7.2\""
   ]
  },
  {
   "cell_type": "code",
   "execution_count": 39,
   "id": "25de3bd7-bd3d-486c-ae83-984b229e8a05",
   "metadata": {},
   "outputs": [],
   "source": [
    "import os\n",
    "from dotenv import load_dotenv\n",
    "\n",
    "load_dotenv()  # Load environment variables from .env file\n",
    "\n",
    "google_api_key = os.getenv('GOOGLE_API_KEY', 'No API key set')\n",
    "# print(f\"Google API Key: {google_api_key}\")\n"
   ]
  },
  {
   "cell_type": "code",
   "execution_count": 40,
   "id": "289c372b-5730-4970-8db9-0d8e76be1b5a",
   "metadata": {},
   "outputs": [],
   "source": [
    "from google import genai\n",
    "client = genai.Client()"
   ]
  },
  {
   "cell_type": "code",
   "execution_count": 41,
   "id": "d4239b3b-1c93-41e8-8648-c1dbbff3143b",
   "metadata": {},
   "outputs": [],
   "source": [
    "MODEL: str = \"gemini-2.0-flash-exp\""
   ]
  },
  {
   "cell_type": "code",
   "execution_count": 42,
   "id": "057cafc8-1c92-49b4-83d0-154611ff74d9",
   "metadata": {},
   "outputs": [
    {
     "ename": "AttributeError",
     "evalue": "module 'google.genai' has no attribute 'GenerativeModel'",
     "output_type": "error",
     "traceback": [
      "\u001b[0;31m---------------------------------------------------------------------------\u001b[0m",
      "\u001b[0;31mAttributeError\u001b[0m                            Traceback (most recent call last)",
      "Cell \u001b[0;32mIn[42], line 4\u001b[0m\n\u001b[1;32m      1\u001b[0m \u001b[38;5;66;03m# response = client.models.generate_content(\u001b[39;00m\n\u001b[1;32m      2\u001b[0m \u001b[38;5;66;03m#     model=MODEL, contents='How does AI work?'\u001b[39;00m\n\u001b[1;32m      3\u001b[0m \u001b[38;5;66;03m# )\u001b[39;00m\n\u001b[0;32m----> 4\u001b[0m model \u001b[38;5;241m=\u001b[39m \u001b[43mgenai\u001b[49m\u001b[38;5;241;43m.\u001b[39;49m\u001b[43mGenerativeModel\u001b[49m(\u001b[38;5;124m'\u001b[39m\u001b[38;5;124mgemini-1.5-flash\u001b[39m\u001b[38;5;124m'\u001b[39m)\n",
      "\u001b[0;31mAttributeError\u001b[0m: module 'google.genai' has no attribute 'GenerativeModel'"
     ]
    }
   ],
   "source": [
    "\n",
    "# response = client.models.generate_content(\n",
    "#     model=MODEL, contents='How does AI work?'\n",
    "# )\n",
    "model = genai.GenerativeModel('gemini-1.5-flash')"
   ]
  },
  {
   "cell_type": "code",
   "execution_count": 19,
   "id": "423ab69b-76eb-4b4c-a5fa-13f939c28bbb",
   "metadata": {},
   "outputs": [
    {
     "data": {
      "text/plain": [
       "str"
      ]
     },
     "execution_count": 19,
     "metadata": {},
     "output_type": "execute_result"
    }
   ],
   "source": [
    "type(response.text)"
   ]
  },
  {
   "cell_type": "code",
   "execution_count": 21,
   "id": "2494150c-bf1f-4137-81b3-b48207d680ad",
   "metadata": {},
   "outputs": [
    {
     "data": {
      "text/plain": [
       "\"Alright, let's break down how AI works in a way that's easy\""
      ]
     },
     "execution_count": 21,
     "metadata": {},
     "output_type": "execute_result"
    }
   ],
   "source": [
    "response.text[:59]"
   ]
  },
  {
   "cell_type": "code",
   "execution_count": 22,
   "id": "c47d23e0-4193-4af2-88ca-27b6fa48d864",
   "metadata": {},
   "outputs": [
    {
     "name": "stdout",
     "output_type": "stream",
     "text": [
      "  % Total    % Received % Xferd  Average Speed   Time    Time     Time  Current\n",
      "                                 Dload  Upload   Total   Spent    Left  Speed\n",
      "100  349k  100  349k    0     0   351k      0 --:--:-- --:--:-- --:--:--  351k\n"
     ]
    }
   ],
   "source": [
    "!curl -o image.jpg \"https://storage.googleapis.com/generativeai-downloads/images/jetpack.jpg\"\n"
   ]
  },
  {
   "cell_type": "code",
   "execution_count": 26,
   "id": "b5eb12b6-ef59-4268-8045-d07ca6448b6d",
   "metadata": {},
   "outputs": [],
   "source": [
    "import PIL.Image\n",
    "img = PIL.Image.open('image.jpg')"
   ]
  },
  {
   "cell_type": "code",
   "execution_count": 27,
   "id": "ddf3d8ff-2797-48a5-8bad-f619aa87ec74",
   "metadata": {},
   "outputs": [],
   "source": [
    "# !pip install pillow"
   ]
  },
  {
   "cell_type": "code",
   "execution_count": 29,
   "id": "404012db-1ed2-4560-a03e-f435e8b154b9",
   "metadata": {},
   "outputs": [],
   "source": [
    "# img"
   ]
  },
  {
   "cell_type": "code",
   "execution_count": 30,
   "id": "ddab8625-28ea-4cf5-bcc9-5132e964e4cf",
   "metadata": {},
   "outputs": [],
   "source": [
    "prompt = \"what is this image of\""
   ]
  },
  {
   "cell_type": "code",
   "execution_count": 33,
   "id": "b3dfad45-0b64-4035-a89c-f439304d6cbd",
   "metadata": {},
   "outputs": [
    {
     "ename": "TypeError",
     "evalue": "Models.generate_content() takes 1 positional argument but 2 were given",
     "output_type": "error",
     "traceback": [
      "\u001b[0;31m---------------------------------------------------------------------------\u001b[0m",
      "\u001b[0;31mTypeError\u001b[0m                                 Traceback (most recent call last)",
      "Cell \u001b[0;32mIn[33], line 1\u001b[0m\n\u001b[0;32m----> 1\u001b[0m response \u001b[38;5;241m=\u001b[39m \u001b[43mclient\u001b[49m\u001b[38;5;241;43m.\u001b[39;49m\u001b[43mmodels\u001b[49m\u001b[38;5;241;43m.\u001b[39;49m\u001b[43mgenerate_content\u001b[49m\u001b[43m(\u001b[49m\u001b[43m[\u001b[49m\u001b[43mprompt\u001b[49m\u001b[43m,\u001b[49m\u001b[43m \u001b[49m\u001b[43mimg\u001b[49m\u001b[43m]\u001b[49m\u001b[43m)\u001b[49m\n\u001b[1;32m      2\u001b[0m \u001b[38;5;28mprint\u001b[39m(response\u001b[38;5;241m.\u001b[39mtext)\n",
      "\u001b[0;31mTypeError\u001b[0m: Models.generate_content() takes 1 positional argument but 2 were given"
     ]
    }
   ],
   "source": [
    "response = client.models.generate_content([prompt, img])\n",
    "print(response.text)"
   ]
  },
  {
   "cell_type": "code",
   "execution_count": null,
   "id": "4dfaf753-bb23-4039-aacd-083afb14bef7",
   "metadata": {},
   "outputs": [],
   "source": []
  }
 ],
 "metadata": {
  "kernelspec": {
   "display_name": "Python 3 (ipykernel)",
   "language": "python",
   "name": "python3"
  },
  "language_info": {
   "codemirror_mode": {
    "name": "ipython",
    "version": 3
   },
   "file_extension": ".py",
   "mimetype": "text/x-python",
   "name": "python",
   "nbconvert_exporter": "python",
   "pygments_lexer": "ipython3",
   "version": "3.12.3"
  }
 },
 "nbformat": 4,
 "nbformat_minor": 5
}
