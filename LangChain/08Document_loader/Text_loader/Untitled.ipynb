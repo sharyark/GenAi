{
 "cells": [
  {
   "cell_type": "code",
   "execution_count": 1,
   "id": "38d87205-b456-4e26-8376-1a44f3bf5cc1",
   "metadata": {},
   "outputs": [],
   "source": [
    "# from langchain_community.document_loaders import TextLoader\n",
    "from langchain_community.document_loaders.text import TextLoader\n"
   ]
  },
  {
   "cell_type": "code",
   "execution_count": 2,
   "id": "ca6e952c-ca64-4ee9-aba9-ff1d053c4230",
   "metadata": {},
   "outputs": [],
   "source": [
    "loader = TextLoader('poem.txt')"
   ]
  },
  {
   "cell_type": "code",
   "execution_count": 8,
   "id": "32ce3b43-2421-45b1-908d-c985e70c396c",
   "metadata": {},
   "outputs": [],
   "source": [
    "# now loading data into memory\n",
    "docs = loader.load()"
   ]
  },
  {
   "cell_type": "code",
   "execution_count": 13,
   "id": "f62cac10-4138-4c26-ba55-75f8acd9906f",
   "metadata": {},
   "outputs": [
    {
     "data": {
      "text/plain": [
       "langchain_core.documents.base.Document"
      ]
     },
     "execution_count": 13,
     "metadata": {},
     "output_type": "execute_result"
    }
   ],
   "source": [
    "type(docs[0])"
   ]
  },
  {
   "cell_type": "code",
   "execution_count": 14,
   "id": "3f7a43d9-affc-4a84-b064-703616568008",
   "metadata": {},
   "outputs": [
    {
     "data": {
      "text/plain": [
       "Document(metadata={'source': 'poem.txt'}, page_content='Whispers of Code\\nBy the hum of wires and glowing screen,\\nIdeas bloom in a digital dream.\\nLogic dances in loops so tight,\\nTurning silence into light.\\n\\nBits and bytes like stars align,\\nCrafting wonders, line by line.\\nIn every bug, a lesson hides')"
      ]
     },
     "execution_count": 14,
     "metadata": {},
     "output_type": "execute_result"
    }
   ],
   "source": [
    "docs[0]"
   ]
  },
  {
   "cell_type": "code",
   "execution_count": 16,
   "id": "28b2957e-985e-4f18-926d-218ed51a384d",
   "metadata": {},
   "outputs": [
    {
     "data": {
      "text/plain": [
       "{'source': 'poem.txt'}"
      ]
     },
     "execution_count": 16,
     "metadata": {},
     "output_type": "execute_result"
    }
   ],
   "source": [
    "docs[0].metadata"
   ]
  },
  {
   "cell_type": "code",
   "execution_count": 17,
   "id": "e3b34e6a-dc85-43c9-853f-0b6e40cc48f8",
   "metadata": {},
   "outputs": [
    {
     "data": {
      "text/plain": [
       "'Whispers of Code\\nBy the hum of wires and glowing screen,\\nIdeas bloom in a digital dream.\\nLogic dances in loops so tight,\\nTurning silence into light.\\n\\nBits and bytes like stars align,\\nCrafting wonders, line by line.\\nIn every bug, a lesson hides'"
      ]
     },
     "execution_count": 17,
     "metadata": {},
     "output_type": "execute_result"
    }
   ],
   "source": [
    "docs[0].page_content"
   ]
  },
  {
   "cell_type": "code",
   "execution_count": null,
   "id": "932a3873-c616-4fdb-b4b2-e8a75bf46280",
   "metadata": {},
   "outputs": [],
   "source": []
  }
 ],
 "metadata": {
  "kernelspec": {
   "display_name": "Python 3 (ipykernel)",
   "language": "python",
   "name": "python3"
  },
  "language_info": {
   "codemirror_mode": {
    "name": "ipython",
    "version": 3
   },
   "file_extension": ".py",
   "mimetype": "text/x-python",
   "name": "python",
   "nbconvert_exporter": "python",
   "pygments_lexer": "ipython3",
   "version": "3.12.3"
  }
 },
 "nbformat": 4,
 "nbformat_minor": 5
}
