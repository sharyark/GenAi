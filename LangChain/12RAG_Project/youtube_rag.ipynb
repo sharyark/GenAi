{
 "cells": [
  {
   "cell_type": "code",
   "execution_count": 25,
   "id": "9ed5a07a-76d1-4f12-95d0-64369142d841",
   "metadata": {},
   "outputs": [
    {
     "data": {
      "text/plain": [
       "True"
      ]
     },
     "execution_count": 25,
     "metadata": {},
     "output_type": "execute_result"
    }
   ],
   "source": [
    "from dotenv import load_dotenv\n",
    "import os\n",
    "from langchain_google_genai import GoogleGenerativeAIEmbeddings\n",
    "\n",
    "# Load environment variables\n",
    "load_dotenv()"
   ]
  },
  {
   "cell_type": "code",
   "execution_count": 37,
   "id": "80120bdf-95c6-40a3-888f-1e6e502159b8",
   "metadata": {},
   "outputs": [],
   "source": [
    "# Get API key\n",
    "google_api_key = os.getenv(\"GOOGLE_API_KEY\")\n",
    "# google_api_key"
   ]
  },
  {
   "cell_type": "code",
   "execution_count": 29,
   "id": "e6adc699-1d33-47c4-ab49-9d7345c1a403",
   "metadata": {},
   "outputs": [],
   "source": [
    "from youtube_transcript_api import YouTubeTranscriptApi, TranscriptsDisabled\n",
    "from langchain.text_splitter import RecursiveCharacterTextSplitter\n",
    "from langchain_openai import OpenAIEmbeddings, ChatOpenAI\n",
    "from langchain_community.vectorstores import FAISS\n",
    "from langchain_core.prompts import PromptTemplate"
   ]
  },
  {
   "cell_type": "code",
   "execution_count": null,
   "id": "1e45f58c-7c34-4ce7-8807-1472fca263c9",
   "metadata": {},
   "outputs": [],
   "source": []
  },
  {
   "cell_type": "code",
   "execution_count": 31,
   "id": "5cf61062-051a-4671-bf50-323a3ce2f410",
   "metadata": {},
   "outputs": [],
   "source": [
    "video_id = \"Gfr50f6ZBvo\" # only the ID, not full URL\n",
    "try:\n",
    "    # If you don’t care which language, this returns the “best” one\n",
    "    transcript_list = YouTubeTranscriptApi.get_transcript(video_id, languages=[\"en\"])\n",
    "\n",
    "    # Flatten it to plain text\n",
    "    transcript = \" \".join(chunk[\"text\"] for chunk in transcript_list)\n",
    "    # print(transcript)\n",
    "\n",
    "except TranscriptsDisabled:\n",
    "    print(\"No captions available for this video.\")"
   ]
  },
  {
   "cell_type": "code",
   "execution_count": 34,
   "id": "0eafdcf2-43bc-4035-9acd-315cc8f3707f",
   "metadata": {},
   "outputs": [],
   "source": [
    "spilter = RecursiveCharacterTextSplitter(chunk_size=1000, chunk_overlap=200)\n",
    "chunks = spilter.create_documents([transcript])"
   ]
  },
  {
   "cell_type": "code",
   "execution_count": 36,
   "id": "57e1d4df-85a1-4501-8f0f-25a86ae6d4a1",
   "metadata": {},
   "outputs": [
    {
     "data": {
      "text/plain": [
       "168"
      ]
     },
     "execution_count": 36,
     "metadata": {},
     "output_type": "execute_result"
    }
   ],
   "source": [
    "len(chunks)"
   ]
  },
  {
   "cell_type": "code",
   "execution_count": 40,
   "id": "adf4147c-27cc-43e3-a913-6bcfda0a55d2",
   "metadata": {},
   "outputs": [],
   "source": [
    "embeddings = GoogleGenerativeAIEmbeddings(model=\"models/text-embedding-004\")\n",
    "vector_store = FAISS.from_documents(chunks,embeddings)"
   ]
  },
  {
   "cell_type": "code",
   "execution_count": 42,
   "id": "65c86c7d-4185-43ac-a4c1-779b23207e79",
   "metadata": {},
   "outputs": [],
   "source": [
    "# vector_store.index_to_docstore_id"
   ]
  },
  {
   "cell_type": "code",
   "execution_count": 43,
   "id": "33c6358a-7680-4a7f-806b-d322c11fcab8",
   "metadata": {},
   "outputs": [],
   "source": [
    "retriever = vector_store.as_retriever(search_type='similarity',search_kwargs={'k':4})"
   ]
  },
  {
   "cell_type": "code",
   "execution_count": 45,
   "id": "2769b42b-047c-4f29-8673-360627120a8e",
   "metadata": {},
   "outputs": [
    {
     "data": {
      "text/plain": [
       "[Document(id='505c917c-c1bd-4a36-bf04-c7e22572a5e5', metadata={}, page_content=\"the following is a conversation with demus hasabis ceo and co-founder of deepmind a company that has published and builds some of the most incredible artificial intelligence systems in the history of computing including alfred zero that learned all by itself to play the game of gold better than any human in the world and alpha fold two that solved protein folding both tasks considered nearly impossible for a very long time demus is widely considered to be one of the most brilliant and impactful humans in the history of artificial intelligence and science and engineering in general this was truly an honor and a pleasure for me to finally sit down with him for this conversation and i'm sure we will talk many times again in the future this is the lex friedman podcast to support it please check out our sponsors in the description and now dear friends here's demis hassabis let's start with a bit of a personal question am i an ai program you wrote to interview people until i get good enough\"),\n",
       " Document(id='8f0779bc-9d57-4c18-8945-bf101c56791c', metadata={}, page_content=\"like it keeps you open-minded and and then the other important thing is to have a really good amazing set of uh people around you at your company or your organization who are also very ethical and grounded themselves and help to keep you that way and then ultimately just to answer your question i hope we're going to be a big part of of birthing ai and that being the greatest benefit to humanity of any tool or technology ever and and getting us into a world of radical abundance and curing diseases and and and solving many of the big challenges we have in front of us and then ultimately you know help the ultimate flourishing of humanity to travel the stars and find those aliens if they are there and if they're not there find out why they're not there what what is going on here in the universe um this is all to come and and that's what i've always dreamed about um but i don't think i think ai is too big an idea it's not going to be uh there'll be a certain set of pioneers who get there\"),\n",
       " Document(id='f4e7632b-66b0-4207-b55a-ddc9aef02b39', metadata={}, page_content=\"ai we would call it now um people like minsky and and and patrick winston and you know all these characters right and used to debate a few of them and they used to think i was mad thinking about that some new advance could be done with learning systems and um i was actually pleased to hear that because at least you know you're on a unique track at that point right even if every all of your you know professors are telling you you're mad that's true and of course in industry uh you can we couldn't get you know as difficult to get two cents together uh and which is hard to imagine now as well given it's the biggest sort of buzzword in in vcs and and fundraising's easy and all these kind of things today so back in 2010 it was very difficult and what we the reason we started then and shane and i used to discuss um uh uh what were the sort of founding tenets of deep mind and it was very various things one was um algorithmic advances so deep learning you know jeff hinton and cohen just had\"),\n",
       " Document(id='04370875-f2e2-44b5-bf4e-621fdc5ee7d1', metadata={}, page_content=\"um this is all to come and and that's what i've always dreamed about um but i don't think i think ai is too big an idea it's not going to be uh there'll be a certain set of pioneers who get there first i hope we're in the vanguard so we can influence how that goes and i think it matters who builds who which which cultures they come from and what values they have uh the builders of ai systems because i think even though the ai system is going to learn for itself most of its knowledge there'll be a residue in the system of the culture and the values of the creators of the system um and there's interesting questions to to discuss about that geopolitically you know different cultures as we're in a more fragmented world than ever unfortunately i think in terms of global cooperation we see that in things like climate where we can't seem to get our act together uh globally to cooperate on these pressing matters i hope that will change over time perhaps you know if we get to an era of radical\")]"
      ]
     },
     "execution_count": 45,
     "metadata": {},
     "output_type": "execute_result"
    }
   ],
   "source": [
    "retriever.invoke('who is lex fridman')"
   ]
  },
  {
   "cell_type": "code",
   "execution_count": 46,
   "id": "815ddf90-afa4-4be2-9373-d76a6ba28ecb",
   "metadata": {},
   "outputs": [],
   "source": [
    "from langchain_google_genai import GoogleGenerativeAI"
   ]
  },
  {
   "cell_type": "code",
   "execution_count": 64,
   "id": "43cc444f-7423-4397-9406-1eda99ad912f",
   "metadata": {},
   "outputs": [],
   "source": [
    "llm = GoogleGenerativeAI(model=\"gemini-2.0-flash\", google_api_key=google_api_key)\n",
    "# Initialize the Gemini model correctly\n",
    "# llm = ChatGoogleGenerativeAI(\n",
    "#     model=\"gemini-2.0-flash\",  # Use \"gemini-pro\" or \"gemini-pro-vision\"\n",
    "#     google_api_key=os.getenv(\"GOOGLE_API_KEY\"),\n",
    "#     temperature=0.5\n",
    "# )"
   ]
  },
  {
   "cell_type": "code",
   "execution_count": 65,
   "id": "42b9705a-4954-45d6-8014-63f8f7b9048e",
   "metadata": {},
   "outputs": [],
   "source": [
    "prompt = PromptTemplate(\n",
    "    template=\"\"\"\n",
    "      You are a helpful assistant.\n",
    "      Answer ONLY from the provided transcript context.\n",
    "      If the context is insufficient, just say you don't know.\n",
    "\n",
    "      {context}\n",
    "      Question: {question}\n",
    "    \"\"\",\n",
    "    input_variables = ['context', 'question']\n",
    ")"
   ]
  },
  {
   "cell_type": "code",
   "execution_count": 66,
   "id": "90ec9b78-3ee0-4f68-964e-ce7b6c993619",
   "metadata": {},
   "outputs": [],
   "source": [
    "question          = \"is the topic of nuclear fusion discussed in this video? if yes then what was discussed\"\n",
    "retrieved_docs    = retriever.invoke(question)"
   ]
  },
  {
   "cell_type": "code",
   "execution_count": 67,
   "id": "cd86bc56-6349-4e71-be82-7b5764638bf3",
   "metadata": {},
   "outputs": [
    {
     "data": {
      "text/plain": [
       "\"in this case in fusion we we collaborated with epfl in switzerland the swiss technical institute who are amazing they have a test reactor that they were willing to let us use which you know i double checked with the team we were going to use carefully and safely i was impressed they managed to persuade them to let us use it and um and it's a it's an amazing test reactor they have there and they try all sorts of pretty crazy experiments on it and um the the the what we tend to look at is if we go into a new domain like fusion what are all the bottleneck problems uh like thinking from first principles you know what are all the bottleneck problems that are still stopping fusion working today and then we look at we you know we get a fusion expert to tell us and then we look at those bottlenecks and we look at the ones which ones are amenable to our ai methods today yes right and and and then and would be interesting from a research perspective from our point of view from an ai point of\\n\\nmilliseconds you know to to basically contain what it's going to do next so it seems like a perfect problem if you think of it for like a reinforcement learning prediction problem so uh you know your controller you're gonna move the magnetic field and until we came along you know they were they were doing it with with traditional operational uh research type of uh controllers uh which are kind of handcrafted and the problem is of course they can't react in the moment to something the plasma's doing that they have to be hard-coded and again knowing that that's normally our go-to solution is we would like to learn that instead and they also had a simulator of these plasma so there were lots of criteria that matched what we we like to to to use so can ai eventually solve nuclear fusion well so we with this problem and we published it in a nature paper last year uh we held the fusion that we held the plasma in specific shapes so actually it's almost like carving the plasma into different\\n\\nthat i would like to i think could be very transformative if we helped accelerate and uh really interesting problems scientific challenges in of themselves this is energy so energy yes exactly so energy and climate so we talked about disease and biology as being one of the biggest places i think ai can help with i think energy and climate uh is another one so maybe they would be my top two um and fusion is one one area i think ai can help with now fusion has many challenges mostly physics material science and engineering challenges as well to build these massive fusion reactors and contain the plasma and what we try to do whenever we go into a new field to apply our systems is we look for um we talk to domain experts we try and find the best people in the world to collaborate with um in this case in fusion we we collaborated with epfl in switzerland the swiss technical institute who are amazing they have a test reactor that they were willing to let us use which you know i double\\n\\nlike room temperature superconductors or something on my list one day i'd like to like you know have an ai system to help build better optimized batteries all of these sort of mechanical things mr i think a systematic sort of search could be uh guided by a model could be um could be extremely powerful so speaking of which you have a paper on nuclear fusion uh magnetic control of tokamak plasmas to deep reinforcement learning so you uh you're seeking to solve nuclear fusion with deep rl so it's doing control of high temperature plasmas can you explain this work and uh can ai eventually solve nuclear fusion it's been very fun last year or two and very productive because we've been taking off a lot of my dream projects if you like of things that i've collected over the years of areas of science that i would like to i think could be very transformative if we helped accelerate and uh really interesting problems scientific challenges in of themselves this is energy so energy yes exactly so\""
      ]
     },
     "execution_count": 67,
     "metadata": {},
     "output_type": "execute_result"
    }
   ],
   "source": [
    "context_text = \"\\n\\n\".join(doc.page_content for doc in retrieved_docs)\n",
    "context_text"
   ]
  },
  {
   "cell_type": "code",
   "execution_count": 68,
   "id": "00db5290-4962-423e-ac7b-3c3018adc176",
   "metadata": {},
   "outputs": [],
   "source": [
    "final_prompt = prompt.invoke({\"context\": context_text, \"question\": question})"
   ]
  },
  {
   "cell_type": "code",
   "execution_count": 70,
   "id": "3efcf1db-f660-41d4-b96e-8d523aef7ef7",
   "metadata": {},
   "outputs": [
    {
     "name": "stdout",
     "output_type": "stream",
     "text": [
      "Yes, nuclear fusion is discussed in the video.\n",
      "\n",
      "Here's what was discussed:\n",
      "\n",
      "*   The speaker collaborated with EPFL in Switzerland, a Swiss technical institute with a test reactor, to work on fusion.\n",
      "*   They identify bottleneck problems in fusion that are amenable to AI methods.\n",
      "*   They use AI to control high-temperature plasmas by controlling the magnetic field, aiming to react in real-time to the plasma's behavior.\n",
      "*   They held the plasma in specific shapes using AI, publishing their work in a Nature paper.\n",
      "*   The speaker believes AI can help accelerate progress in energy and climate, with fusion being one area.\n",
      "*   Fusion has challenges in physics, material science, and engineering.\n",
      "\n"
     ]
    }
   ],
   "source": [
    "answer = llm.invoke(final_prompt)\n",
    "print(answer)"
   ]
  },
  {
   "cell_type": "code",
   "execution_count": null,
   "id": "0329ca41-b039-438d-8259-e5ea40b94ee5",
   "metadata": {},
   "outputs": [],
   "source": []
  }
 ],
 "metadata": {
  "kernelspec": {
   "display_name": "Python 3 (ipykernel)",
   "language": "python",
   "name": "python3"
  },
  "language_info": {
   "codemirror_mode": {
    "name": "ipython",
    "version": 3
   },
   "file_extension": ".py",
   "mimetype": "text/x-python",
   "name": "python",
   "nbconvert_exporter": "python",
   "pygments_lexer": "ipython3",
   "version": "3.12.3"
  }
 },
 "nbformat": 4,
 "nbformat_minor": 5
}
