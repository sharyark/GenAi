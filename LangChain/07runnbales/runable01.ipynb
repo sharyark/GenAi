{
 "cells": [
  {
   "cell_type": "code",
   "execution_count": 2,
   "id": "148ef312",
   "metadata": {},
   "outputs": [],
   "source": [
    "# from langchain.chat_models import ChatOpenAI\n",
    "# from langchain.chains import ConversationChain\n",
    "# from langchain.memory import ConversationBufferMemory\n",
    "\n",
    "# # Initialize the OpenAI chat model\n",
    "# chat_model = ChatOpenAI(temperature=0.7, model=\"gpt-3.5-turbo\")\n",
    "\n",
    "# # Set up memory for the conversation\n",
    "# memory = ConversationBufferMemory()\n",
    "\n",
    "# # Create a conversation chain\n",
    "# conversation = ConversationChain(llm=chat_model, memory=memory)\n",
    "\n",
    "# # Start a conversation\n",
    "# response = conversation.run(\"Hello, who are you?\")\n",
    "# print(response)\n",
    "\n",
    "# # Continue the conversation\n",
    "# response = conversation.run(\"Can you tell me a joke?\")\n",
    "# print(response)"
   ]
  },
  {
   "cell_type": "code",
   "execution_count": 3,
   "id": "a8c65d18",
   "metadata": {},
   "outputs": [
    {
     "data": {
      "text/plain": [
       "True"
      ]
     },
     "execution_count": 3,
     "metadata": {},
     "output_type": "execute_result"
    }
   ],
   "source": [
    "from dotenv import load_dotenv\n",
    "load_dotenv()\n"
   ]
  },
  {
   "cell_type": "code",
   "execution_count": null,
   "id": "f748df4f",
   "metadata": {},
   "outputs": [],
   "source": []
  }
 ],
 "metadata": {
  "kernelspec": {
   "display_name": "genAi",
   "language": "python",
   "name": "python3"
  },
  "language_info": {
   "codemirror_mode": {
    "name": "ipython",
    "version": 3
   },
   "file_extension": ".py",
   "mimetype": "text/x-python",
   "name": "python",
   "nbconvert_exporter": "python",
   "pygments_lexer": "ipython3",
   "version": "3.12.3"
  }
 },
 "nbformat": 4,
 "nbformat_minor": 5
}
