{
 "cells": [
  {
   "cell_type": "code",
   "execution_count": 25,
   "id": "7900bf1a-d64b-49c8-8799-327c03540c3c",
   "metadata": {},
   "outputs": [],
   "source": [
    "# from re import template\n",
    "from langchain_core.output_parsers import StrOutputParser\n",
    "from dotenv import  load_dotenv\n",
    "# from langchain_core.messages import SystemMessage, AIMessage, HumanMessage\n",
    "from langchain_google_genai import ChatGoogleGenerativeAI\n",
    "from langchain_core.prompts import PromptTemplate\n",
    "from langchain_core.runnables import RunnableSequence\n",
    "# from langchain_core.runnables import ParallelRunnable\n",
    "# from langchain_core.runnables import ParallelRunnable\n",
    "from langchain_core.runnables import RunnableParallel\n",
    "import os"
   ]
  },
  {
   "cell_type": "code",
   "execution_count": 8,
   "id": "294e0c21-a5cb-4b5b-b882-d6db7e33552c",
   "metadata": {},
   "outputs": [
    {
     "data": {
      "text/plain": [
       "True"
      ]
     },
     "execution_count": 8,
     "metadata": {},
     "output_type": "execute_result"
    }
   ],
   "source": [
    "\n",
    "# Load environment variables\n",
    "load_dotenv()\n"
   ]
  },
  {
   "cell_type": "code",
   "execution_count": 14,
   "id": "b2e2f2d4-f1bf-427b-ad5c-62a1ef2d2c76",
   "metadata": {},
   "outputs": [
    {
     "data": {
      "text/plain": [
       "ChatGoogleGenerativeAI(model='models/gemini-2.0-flash', google_api_key=SecretStr('**********'), temperature=0.0, max_retries=2, client=<google.ai.generativelanguage_v1beta.services.generative_service.client.GenerativeServiceClient object at 0x79bcd44d04a0>, default_metadata=())"
      ]
     },
     "execution_count": 14,
     "metadata": {},
     "output_type": "execute_result"
    }
   ],
   "source": [
    "model = ChatGoogleGenerativeAI(\n",
    "        model=\"gemini-2.0-flash\",\n",
    "        temperature=0,\n",
    "        max_tokens=None,\n",
    "        timeout=None,\n",
    "        max_retries=2,\n",
    "    )\n",
    "model"
   ]
  },
  {
   "cell_type": "code",
   "execution_count": 17,
   "id": "86397d98-cb2d-4e20-814d-6bebadb6d74c",
   "metadata": {},
   "outputs": [],
   "source": [
    "prompt = PromptTemplate(\n",
    "    template='Write a riddle on {topic}',\n",
    "    input_variables=['topic']\n",
    ")"
   ]
  },
  {
   "cell_type": "code",
   "execution_count": 18,
   "id": "b223aafc-d8d7-4112-8742-9757f5694410",
   "metadata": {},
   "outputs": [],
   "source": [
    "parser = StrOutputParser()"
   ]
  },
  {
   "cell_type": "code",
   "execution_count": 20,
   "id": "910eb010-3cc8-4a23-8321-c2572141b879",
   "metadata": {},
   "outputs": [],
   "source": [
    "chain = RunnableSequence(prompt,model,parser)"
   ]
  },
  {
   "cell_type": "code",
   "execution_count": 21,
   "id": "bc94b18c-6d33-4907-9637-45b0dc06358a",
   "metadata": {},
   "outputs": [
    {
     "data": {
      "text/plain": [
       "'I have a pitch, but no house.\\nI have wickets, but no doors.\\nI have a bat, but no wings to fly.\\nI have runs, but no legs to walk.\\nI have fielders, but no farm.\\nI have a bowler, but no tears to cry.\\n\\nWhat am I?\\n\\\\\\n... Cricket'"
      ]
     },
     "execution_count": 21,
     "metadata": {},
     "output_type": "execute_result"
    }
   ],
   "source": [
    "chain.invoke({'topic':'cricket'})"
   ]
  },
  {
   "cell_type": "markdown",
   "id": "e5aed7cb-91f2-4304-90f9-3d7b618d2225",
   "metadata": {},
   "source": [
    "### now parallel_runnable"
   ]
  },
  {
   "cell_type": "code",
   "execution_count": 30,
   "id": "b396a107-68ab-43b7-b31a-58d8652a8ea5",
   "metadata": {},
   "outputs": [],
   "source": [
    "prompt1 = PromptTemplate(\n",
    "    template='Write a instagram caption on {topic} keep it in oneline',\n",
    "    input_variables=['topic']\n",
    ")\n",
    "prompt2 = PromptTemplate(\n",
    "    template='Write a linkdin post on {topic} keep it in oneline',\n",
    "    input_variables=['topic']\n",
    ")\n"
   ]
  },
  {
   "cell_type": "code",
   "execution_count": 31,
   "id": "3ba91a64-df0f-4124-8c6f-13aa2172ed23",
   "metadata": {},
   "outputs": [],
   "source": [
    "parallel_chain = RunnableParallel(\n",
    "    {\n",
    "        'instagram': RunnableSequence(prompt1,model,parser),\n",
    "        'linkdin':  RunnableSequence(prompt2,model,parser)\n",
    "    })"
   ]
  },
  {
   "cell_type": "code",
   "execution_count": 32,
   "id": "9f1eafb6-2338-4f7b-857b-6d73e8b0d5dc",
   "metadata": {},
   "outputs": [
    {
     "data": {
      "text/plain": [
       "{'instagram': 'Just me, myself, and I. ',\n",
       " 'linkdin': \"Sharing a quick selfie and excited for what's ahead! ✨\"}"
      ]
     },
     "execution_count": 32,
     "metadata": {},
     "output_type": "execute_result"
    }
   ],
   "source": [
    "parallel_chain.invoke({'topic':'myselfie'})"
   ]
  },
  {
   "cell_type": "code",
   "execution_count": null,
   "id": "ff8dfa47-640a-494a-9df2-09fffbed884d",
   "metadata": {},
   "outputs": [],
   "source": []
  }
 ],
 "metadata": {
  "kernelspec": {
   "display_name": "Python 3 (ipykernel)",
   "language": "python",
   "name": "python3"
  },
  "language_info": {
   "codemirror_mode": {
    "name": "ipython",
    "version": 3
   },
   "file_extension": ".py",
   "mimetype": "text/x-python",
   "name": "python",
   "nbconvert_exporter": "python",
   "pygments_lexer": "ipython3",
   "version": "3.12.3"
  }
 },
 "nbformat": 4,
 "nbformat_minor": 5
}
