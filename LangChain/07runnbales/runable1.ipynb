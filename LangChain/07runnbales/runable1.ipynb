{
 "cells": [
  {
   "cell_type": "code",
   "execution_count": 1,
   "id": "16725a69-0188-4918-8476-4aae84bed806",
   "metadata": {},
   "outputs": [],
   "source": [
    "import random\n",
    "\n",
    "class NakliLLM:\n",
    "\n",
    "  def __init__(self):\n",
    "    print('LLM created')\n",
    "\n",
    "  def predict(self, prompt):\n",
    "\n",
    "    response_list = [\n",
    "        'Delhi is the capital of India',\n",
    "        'IPL is a cricket league',\n",
    "        'AI stands for Artificial Intelligence'\n",
    "    ]\n",
    "\n",
    "    return {'response': random.choice(response_list)}"
   ]
  },
  {
   "cell_type": "code",
   "execution_count": 60,
   "id": "387d663c-748a-4b24-bdff-86c4dba523f3",
   "metadata": {},
   "outputs": [],
   "source": [
    "class NakliPromptTemplate:\n",
    "\n",
    "  def __init__(self, template, input_variables):\n",
    "    self.template = template\n",
    "    self.input_variables = input_variables\n",
    "\n",
    "  def format(self, input_dict):\n",
    "    return self.template.format(**input_dict)"
   ]
  },
  {
   "cell_type": "code",
   "execution_count": 61,
   "id": "b7581c8e-ac72-4ee5-8327-57f61d959877",
   "metadata": {},
   "outputs": [
    {
     "name": "stdout",
     "output_type": "stream",
     "text": [
      "LLM created\n"
     ]
    }
   ],
   "source": [
    "llm = NakliLLM()"
   ]
  },
  {
   "cell_type": "code",
   "execution_count": 62,
   "id": "7ae0b28a-cc9a-4692-a514-3f9a470c2531",
   "metadata": {},
   "outputs": [
    {
     "data": {
      "text/plain": [
       "{'response': 'Delhi is the capital of India'}"
      ]
     },
     "execution_count": 62,
     "metadata": {},
     "output_type": "execute_result"
    }
   ],
   "source": [
    "llm.predict(\"d\")"
   ]
  },
  {
   "cell_type": "code",
   "execution_count": 63,
   "id": "a04bbdce-c06a-44a6-83b3-1f307d321303",
   "metadata": {},
   "outputs": [],
   "source": [
    "pmt = NakliPromptTemplate(\"write sharyar khan age is {age} \",input_variables=['age'])"
   ]
  },
  {
   "cell_type": "code",
   "execution_count": 64,
   "id": "7dcfd8f7-7302-413c-b5be-61bed3bb9d23",
   "metadata": {},
   "outputs": [
    {
     "data": {
      "text/plain": [
       "'write sharyar khan age is 24 '"
      ]
     },
     "execution_count": 64,
     "metadata": {},
     "output_type": "execute_result"
    }
   ],
   "source": [
    "pmt.format({\"age\":\"24\"})"
   ]
  },
  {
   "cell_type": "code",
   "execution_count": 29,
   "id": "9cc27f60-62b6-4675-af38-4c47957f5a6d",
   "metadata": {},
   "outputs": [
    {
     "data": {
      "text/plain": [
       "{'response': 'AI stands for Artificial Intelligence'}"
      ]
     },
     "execution_count": 29,
     "metadata": {},
     "output_type": "execute_result"
    }
   ],
   "source": [
    "llm.predict(pmt)"
   ]
  },
  {
   "cell_type": "code",
   "execution_count": 30,
   "id": "a6785c5f-381c-43f0-93da-0bcefa24b305",
   "metadata": {},
   "outputs": [],
   "source": [
    "class NakliLLMChain:\n",
    "\n",
    "  def __init__(self, llm, prompt):\n",
    "    self.llm = llm\n",
    "    self.prompt = prompt\n",
    "\n",
    "  def run(self, input_dict):\n",
    "\n",
    "    final_prompt = self.prompt.format(input_dict)\n",
    "    result = self.llm.predict(final_prompt)\n",
    "\n",
    "    return result['response']"
   ]
  },
  {
   "cell_type": "code",
   "execution_count": 31,
   "id": "20a1fc92-10ff-4bdf-ba5b-523eccdfa50b",
   "metadata": {},
   "outputs": [],
   "source": [
    "template = NakliPromptTemplate(\n",
    "    template='Write a {length} poem about {topic}',\n",
    "    input_variables=['length', 'topic']\n",
    ")"
   ]
  },
  {
   "cell_type": "code",
   "execution_count": 32,
   "id": "c79dec16-9b30-413b-a918-6d4ac7291fd2",
   "metadata": {},
   "outputs": [
    {
     "name": "stdout",
     "output_type": "stream",
     "text": [
      "LLM created\n"
     ]
    }
   ],
   "source": [
    "llm = NakliLLM()"
   ]
  },
  {
   "cell_type": "code",
   "execution_count": 33,
   "id": "ecfcf0b1-6a66-4aa1-942b-ace7517a6330",
   "metadata": {},
   "outputs": [],
   "source": [
    "chain = NakliLLMChain(llm, template)"
   ]
  },
  {
   "cell_type": "code",
   "execution_count": 34,
   "id": "439e30ad-937b-40e2-83a5-7df88150764c",
   "metadata": {},
   "outputs": [
    {
     "data": {
      "text/plain": [
       "'IPL is a cricket league'"
      ]
     },
     "execution_count": 34,
     "metadata": {},
     "output_type": "execute_result"
    }
   ],
   "source": [
    "chain.run({'length':'short', 'topic': 'india'})"
   ]
  },
  {
   "cell_type": "markdown",
   "id": "0b44085b-de54-4993-be97-e55d2ce06028",
   "metadata": {},
   "source": [
    "## now solve the problem with runnables (problem was making chain for all will take so much storage and also other cons)"
   ]
  },
  {
   "cell_type": "code",
   "execution_count": 37,
   "id": "8dfc51f0-c257-4b02-9d14-1b12b0bf6611",
   "metadata": {},
   "outputs": [],
   "source": [
    "from abc import ABC, abstractmethod"
   ]
  },
  {
   "cell_type": "code",
   "execution_count": 45,
   "id": "b7f874d2-d2c5-425a-ad5b-d344ed7811ef",
   "metadata": {},
   "outputs": [],
   "source": [
    "class runnable(ABC):\n",
    "    @abstractmethod\n",
    "    def invoke(input_data):\n",
    "        pass"
   ]
  },
  {
   "cell_type": "code",
   "execution_count": 81,
   "id": "254e6771-7739-47a8-9718-b3b5f0cfdc60",
   "metadata": {},
   "outputs": [],
   "source": [
    "class NakliLLM(runnable):\n",
    "\n",
    "  def __init__(self):\n",
    "    print('LLM created')\n",
    "      \n",
    "  def invoke(self,prompt):\n",
    "    response_list = [\n",
    "        'Delhi is the capital of India',\n",
    "        'IPL is a cricket league',\n",
    "        'AI stands for Artificial Intelligence'\n",
    "    ]\n",
    "\n",
    "    return {'response': random.choice(response_list)}\n",
    "      \n",
    "  def predict(self, prompt):\n",
    "\n",
    "    response_list = [\n",
    "        'Delhi is the capital of India',\n",
    "        'IPL is a cricket league',\n",
    "        'AI stands for Artificial Intelligence'\n",
    "    ]\n",
    "\n",
    "    return {'response': random.choice(response_list)}"
   ]
  },
  {
   "cell_type": "code",
   "execution_count": 82,
   "id": "96758f2b-bc70-4c22-8a20-a2884fd58fa6",
   "metadata": {},
   "outputs": [],
   "source": [
    "class NakliPromptTemplate(runnable):\n",
    "\n",
    "  def __init__(self, template, input_variables):\n",
    "    self.template = template\n",
    "    self.input_variables = input_variables\n",
    "      \n",
    "  def invoke(self,input_dict):\n",
    "      return self.template.format(**input_dict)\n",
    "  def format(self, input_dict):\n",
    "    return self.template.format(**input_dict)"
   ]
  },
  {
   "cell_type": "code",
   "execution_count": 84,
   "id": "bd3c28ef-ce19-4566-bd69-f5d3f65a03b6",
   "metadata": {},
   "outputs": [
    {
     "name": "stdout",
     "output_type": "stream",
     "text": [
      "LLM created\n"
     ]
    }
   ],
   "source": [
    "pmt = NakliPromptTemplate(\n",
    "    template = 'first name is {fname}, last name is {lname}',\n",
    "    input_variables = ['fname','lname']\n",
    ")\n",
    "llm = NakliLLM()"
   ]
  },
  {
   "cell_type": "code",
   "execution_count": 85,
   "id": "d8f4f433-73d2-49e1-8cd2-589348c2814a",
   "metadata": {},
   "outputs": [],
   "source": [
    "a = NakliPromptTemplate(template=\"dfasdf{a},{b}\",input_variables= ['a'])"
   ]
  },
  {
   "cell_type": "code",
   "execution_count": 86,
   "id": "0f615f37-c21b-417c-bc77-5fe0fe2c23bc",
   "metadata": {},
   "outputs": [
    {
     "data": {
      "text/plain": [
       "'dfasdfsdfadsf,asdfdsaf'"
      ]
     },
     "execution_count": 86,
     "metadata": {},
     "output_type": "execute_result"
    }
   ],
   "source": [
    "a.invoke({'a':'sdfadsf','b':'asdfdsaf'})"
   ]
  },
  {
   "cell_type": "code",
   "execution_count": 114,
   "id": "46b79622-f517-4a1e-9f8a-878c23a05784",
   "metadata": {},
   "outputs": [],
   "source": [
    "class runnableconnector(runnable):\n",
    "    def __init__(self,runable_list=[]):\n",
    "        self.runable_list = runable_list\n",
    "    def invoke(self,input_data):\n",
    "        for runable in self.runable_list: #it will run and invoke their abs methods and pass it to next call\n",
    "            print(input_data)\n",
    "            input_data = runable.invoke(input_data)\n",
    "        return input_data #here final output will be return"
   ]
  },
  {
   "cell_type": "code",
   "execution_count": 115,
   "id": "a9064d22-acf8-4c73-ba77-48763ff074d7",
   "metadata": {},
   "outputs": [],
   "source": [
    "chain1 = runnableconnector([pmt,llm])"
   ]
  },
  {
   "cell_type": "code",
   "execution_count": 116,
   "id": "69067f7d-02de-40a3-ab88-a63c237fe6ed",
   "metadata": {},
   "outputs": [],
   "source": [
    "pmt2 = NakliPromptTemplate(\n",
    "    template = 'first name is {fname}, last name is',\n",
    "    input_variables = ['fname']\n",
    ")"
   ]
  },
  {
   "cell_type": "code",
   "execution_count": 117,
   "id": "52e31bf6-3e89-47f4-a6aa-973319964f79",
   "metadata": {},
   "outputs": [],
   "source": [
    "chain2 = runnableconnector([pmt2,llm])"
   ]
  },
  {
   "cell_type": "code",
   "execution_count": 118,
   "id": "b2b66052-ce97-4a2a-b8b0-1766c6d74350",
   "metadata": {},
   "outputs": [
    {
     "name": "stdout",
     "output_type": "stream",
     "text": [
      "{'fname': 'abc'}\n",
      "first name is abc, last name is\n"
     ]
    },
    {
     "data": {
      "text/plain": [
       "{'response': 'AI stands for Artificial Intelligence'}"
      ]
     },
     "execution_count": 118,
     "metadata": {},
     "output_type": "execute_result"
    }
   ],
   "source": [
    "chain2.invoke({'fname':'abc'})"
   ]
  },
  {
   "cell_type": "code",
   "execution_count": 119,
   "id": "34a17289-29a6-4b8d-9e2e-c22d7af5097c",
   "metadata": {},
   "outputs": [],
   "source": [
    "chain3 = runnableconnector([chain1,chain2])"
   ]
  },
  {
   "cell_type": "code",
   "execution_count": 120,
   "id": "d514c7f3-609b-4e8f-9470-85a61c1ae2e4",
   "metadata": {},
   "outputs": [
    {
     "name": "stdout",
     "output_type": "stream",
     "text": [
      "{'fname': 'asdfads'}\n",
      "{'fname': 'asdfads'}\n"
     ]
    },
    {
     "ename": "KeyError",
     "evalue": "'lname'",
     "output_type": "error",
     "traceback": [
      "\u001b[31m---------------------------------------------------------------------------\u001b[39m",
      "\u001b[31mKeyError\u001b[39m                                  Traceback (most recent call last)",
      "\u001b[36mCell\u001b[39m\u001b[36m \u001b[39m\u001b[32mIn[120]\u001b[39m\u001b[32m, line 1\u001b[39m\n\u001b[32m----> \u001b[39m\u001b[32m1\u001b[39m \u001b[43mchain3\u001b[49m\u001b[43m.\u001b[49m\u001b[43minvoke\u001b[49m\u001b[43m(\u001b[49m\u001b[43m{\u001b[49m\u001b[33;43m'\u001b[39;49m\u001b[33;43mfname\u001b[39;49m\u001b[33;43m'\u001b[39;49m\u001b[43m:\u001b[49m\u001b[33;43m'\u001b[39;49m\u001b[33;43masdfads\u001b[39;49m\u001b[33;43m'\u001b[39;49m\u001b[43m}\u001b[49m\u001b[43m)\u001b[49m\n",
      "\u001b[36mCell\u001b[39m\u001b[36m \u001b[39m\u001b[32mIn[114]\u001b[39m\u001b[32m, line 7\u001b[39m, in \u001b[36mrunnableconnector.invoke\u001b[39m\u001b[34m(self, input_data)\u001b[39m\n\u001b[32m      5\u001b[39m \u001b[38;5;28;01mfor\u001b[39;00m runable \u001b[38;5;129;01min\u001b[39;00m \u001b[38;5;28mself\u001b[39m.runable_list: \u001b[38;5;66;03m#it will run and invoke their abs methods and pass it to next call\u001b[39;00m\n\u001b[32m      6\u001b[39m     \u001b[38;5;28mprint\u001b[39m(input_data)\n\u001b[32m----> \u001b[39m\u001b[32m7\u001b[39m     input_data = \u001b[43mrunable\u001b[49m\u001b[43m.\u001b[49m\u001b[43minvoke\u001b[49m\u001b[43m(\u001b[49m\u001b[43minput_data\u001b[49m\u001b[43m)\u001b[49m\n\u001b[32m      8\u001b[39m \u001b[38;5;28;01mreturn\u001b[39;00m input_data\n",
      "\u001b[36mCell\u001b[39m\u001b[36m \u001b[39m\u001b[32mIn[114]\u001b[39m\u001b[32m, line 7\u001b[39m, in \u001b[36mrunnableconnector.invoke\u001b[39m\u001b[34m(self, input_data)\u001b[39m\n\u001b[32m      5\u001b[39m \u001b[38;5;28;01mfor\u001b[39;00m runable \u001b[38;5;129;01min\u001b[39;00m \u001b[38;5;28mself\u001b[39m.runable_list: \u001b[38;5;66;03m#it will run and invoke their abs methods and pass it to next call\u001b[39;00m\n\u001b[32m      6\u001b[39m     \u001b[38;5;28mprint\u001b[39m(input_data)\n\u001b[32m----> \u001b[39m\u001b[32m7\u001b[39m     input_data = \u001b[43mrunable\u001b[49m\u001b[43m.\u001b[49m\u001b[43minvoke\u001b[49m\u001b[43m(\u001b[49m\u001b[43minput_data\u001b[49m\u001b[43m)\u001b[49m\n\u001b[32m      8\u001b[39m \u001b[38;5;28;01mreturn\u001b[39;00m input_data\n",
      "\u001b[36mCell\u001b[39m\u001b[36m \u001b[39m\u001b[32mIn[82]\u001b[39m\u001b[32m, line 8\u001b[39m, in \u001b[36mNakliPromptTemplate.invoke\u001b[39m\u001b[34m(self, input_dict)\u001b[39m\n\u001b[32m      7\u001b[39m \u001b[38;5;28;01mdef\u001b[39;00m\u001b[38;5;250m \u001b[39m\u001b[34minvoke\u001b[39m(\u001b[38;5;28mself\u001b[39m,input_dict):\n\u001b[32m----> \u001b[39m\u001b[32m8\u001b[39m     \u001b[38;5;28;01mreturn\u001b[39;00m \u001b[38;5;28;43mself\u001b[39;49m\u001b[43m.\u001b[49m\u001b[43mtemplate\u001b[49m\u001b[43m.\u001b[49m\u001b[43mformat\u001b[49m\u001b[43m(\u001b[49m\u001b[43m*\u001b[49m\u001b[43m*\u001b[49m\u001b[43minput_dict\u001b[49m\u001b[43m)\u001b[49m\n",
      "\u001b[31mKeyError\u001b[39m: 'lname'"
     ]
    }
   ],
   "source": [
    "chain3.invoke({'fname':'asdfads'})"
   ]
  },
  {
   "cell_type": "code",
   "execution_count": null,
   "id": "0d96f5b3-4675-43f5-a551-bd031bf4141c",
   "metadata": {},
   "outputs": [],
   "source": []
  }
 ],
 "metadata": {
  "kernelspec": {
   "display_name": "Python 3 (ipykernel)",
   "language": "python",
   "name": "python3"
  },
  "language_info": {
   "codemirror_mode": {
    "name": "ipython",
    "version": 3
   },
   "file_extension": ".py",
   "mimetype": "text/x-python",
   "name": "python",
   "nbconvert_exporter": "python",
   "pygments_lexer": "ipython3",
   "version": "3.12.3"
  }
 },
 "nbformat": 4,
 "nbformat_minor": 5
}
