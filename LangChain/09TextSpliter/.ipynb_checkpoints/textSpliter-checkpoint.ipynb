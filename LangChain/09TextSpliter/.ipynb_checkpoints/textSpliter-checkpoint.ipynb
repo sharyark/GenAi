{
 "cells": [
  {
   "cell_type": "code",
   "execution_count": 3,
   "id": "b711c487-9d40-4fc8-bbfc-01b3f73b01aa",
   "metadata": {},
   "outputs": [
    {
     "name": "stdout",
     "output_type": "stream",
     "text": [
      "['Once upon a time, in a land far, far away, there', 'was a kingdom where people lived in peace and harm', 'ony.\\nThe king and queen were loved by all, and the', 'ir rule was just and kind. \\nHowever, one day a mys', 'terious darkness began to spread across the land.']\n"
     ]
    }
   ],
   "source": [
    "from langchain.text_splitter import CharacterTextSplitter\n",
    "\n",
    "# Example long text\n",
    "text = \"\"\"\n",
    "Once upon a time, in a land far, far away, there was a kingdom where people lived in peace and harmony.\n",
    "The king and queen were loved by all, and their rule was just and kind. \n",
    "However, one day a mysterious darkness began to spread across the land.\n",
    "\"\"\"\n",
    "\n",
    "# Create a text splitter\n",
    "text_splitter = CharacterTextSplitter(\n",
    "    separator=\"\",  # split on new lines\n",
    "    chunk_size=50,   # max 50 characters in each chunk\n",
    "    chunk_overlap=0 # overlap of 10 characters between chunks\n",
    ")\n",
    "\n",
    "# Split the text\n",
    "chunks = text_splitter.split_text(text)\n",
    "print(chunks)"
   ]
  },
  {
   "cell_type": "markdown",
   "id": "e5c8ac29-5b59-4c29-9ff3-1e29f47fab6b",
   "metadata": {},
   "source": [
    "## text structure base "
   ]
  },
  {
   "cell_type": "code",
   "execution_count": 7,
   "id": "9999db11-c30f-4f57-9443-3ca1931678e2",
   "metadata": {},
   "outputs": [
    {
     "name": "stdout",
     "output_type": "stream",
     "text": [
      "['Once upon a time, in a faraway land, there was a peaceful kingdom.', 'The people lived in happiness, celebrating life every day.', 'However, one day, a dark cloud appeared.\\nFrom it emerged creatures that fed on fear and sadness.', 'The king called upon heroes from all corners of the realm.', 'Brave warriors, wise wizards, and clever inventors all answered the call.', 'Together, they fought to bring back the light.', 'Their journey was long and hard, but hope guided them.']\n"
     ]
    }
   ],
   "source": [
    "from langchain.text_splitter import RecursiveCharacterTextSplitter\n",
    "\n",
    "# Example long structured text\n",
    "text = \"\"\"\n",
    "Once upon a time, in a faraway land, there was a peaceful kingdom.\n",
    "The people lived in happiness, celebrating life every day.\n",
    "\n",
    "However, one day, a dark cloud appeared.\n",
    "From it emerged creatures that fed on fear and sadness.\n",
    "\n",
    "The king called upon heroes from all corners of the realm.\n",
    "Brave warriors, wise wizards, and clever inventors all answered the call.\n",
    "\n",
    "Together, they fought to bring back the light.\n",
    "Their journey was long and hard, but hope guided them.\n",
    "\"\"\"\n",
    "\n",
    "# Create a RecursiveCharacterTextSplitter\n",
    "text_splitter = RecursiveCharacterTextSplitter(\n",
    "    chunk_size=100,        # each chunk max 100 characters\n",
    "    chunk_overlap=20,      # 20 characters overlapping between chunks\n",
    "    separators=[\"\\n\\n\", \"\\n\", \".\", \" \", \"\"] # splitting priority\n",
    ")\n",
    "\n",
    "# Split the text\n",
    "chunks = text_splitter.split_text(text)\n",
    "\n",
    "print(chunks)\n"
   ]
  },
  {
   "cell_type": "code",
   "execution_count": null,
   "id": "f212a12d-27ee-4aed-b838-0f16f1613dd4",
   "metadata": {},
   "outputs": [],
   "source": [
    "# from langchain.text_splitter import SemanticChunker\n",
    "# from langchain.embeddings import OpenAIEmbeddings\n",
    "# from langchain.schema import Document\n",
    "\n",
    "# # Example long text\n",
    "# text = \"\"\"\n",
    "# The sun is a star that gives light and heat to the Earth. \n",
    "# It is located at the center of our solar system.\n",
    "\n",
    "# Plants use sunlight to perform photosynthesis, making food and oxygen.\n",
    "\n",
    "# Meanwhile, the planets orbit the sun, each with their own characteristics.\n",
    "\n",
    "# Jupiter, the largest planet, has many moons.\n",
    "# Saturn is famous for its beautiful rings.\n",
    "# \"\"\"\n",
    "\n",
    "# # Initialize the embedding model\n",
    "# embedding_model = OpenAIEmbeddings()\n",
    "\n",
    "# # Create a SemanticChunker\n",
    "# semantic_splitter = SemanticChunker(embeddings=embedding_model)\n",
    "\n",
    "# # Split the text semantically\n",
    "# chunks = semantic_splitter.split_text(text)\n",
    "\n",
    "# # Show the chunks\n",
    "# for i, chunk in enumerate(chunks):\n",
    "#     print(f\"Chunk {i+1}:\\n{chunk}\\n\")\n"
   ]
  }
 ],
 "metadata": {
  "kernelspec": {
   "display_name": "Python 3 (ipykernel)",
   "language": "python",
   "name": "python3"
  },
  "language_info": {
   "codemirror_mode": {
    "name": "ipython",
    "version": 3
   },
   "file_extension": ".py",
   "mimetype": "text/x-python",
   "name": "python",
   "nbconvert_exporter": "python",
   "pygments_lexer": "ipython3",
   "version": "3.12.3"
  }
 },
 "nbformat": 4,
 "nbformat_minor": 5
}
