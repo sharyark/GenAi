{
 "cells": [
  {
   "cell_type": "code",
   "execution_count": 11,
   "id": "7edad0c2",
   "metadata": {},
   "outputs": [],
   "source": [
    "import os\n",
    "from dotenv import load_dotenv\n",
    "from langchain_google_genai import ChatGoogleGenerativeAI\n",
    "from langchain_core.tools import tool\n",
    "from langchain_core.messages import HumanMessage\n",
    "import requests"
   ]
  },
  {
   "cell_type": "code",
   "execution_count": 9,
   "id": "b1494420",
   "metadata": {},
   "outputs": [],
   "source": [
    "load_dotenv()\n",
    "google_api_key = os.getenv(\"GOOGLE_API_KEY\")"
   ]
  },
  {
   "cell_type": "code",
   "execution_count": 10,
   "id": "8708e366",
   "metadata": {},
   "outputs": [],
   "source": [
    "llm = ChatGoogleGenerativeAI(\n",
    "    model= \"gemini-2.0-flash\",\n",
    "    temperature=1.0,\n",
    "    max_retries=2,\n",
    "    google_api_key=google_api_key,\n",
    ")"
   ]
  },
  {
   "cell_type": "code",
   "execution_count": 30,
   "id": "6d05dd46",
   "metadata": {},
   "outputs": [],
   "source": [
    "@tool\n",
    "def get_conversion_factor(from_currency: str, to_currency: str) -> float:\n",
    "    \"\"\"\n",
    "    Get the conversion factor from one currency to another.\n",
    "    \"\"\"\n",
    "    url = f\"https://api.exchangerate-api.com/v4/latest/{from_currency}\"\n",
    "    response = requests.get(url)\n",
    "    data = response.json()\n",
    "    \n",
    "    if to_currency in data['rates']:\n",
    "        return data['rates'][to_currency]\n",
    "    else:\n",
    "        raise ValueError(f\"Conversion rate for {to_currency} not found.\")"
   ]
  },
  {
   "cell_type": "code",
   "execution_count": 56,
   "id": "27d7fa7f",
   "metadata": {},
   "outputs": [],
   "source": [
    "@tool\n",
    "def convert(amount: float, conversion_rate: float) -> float:\n",
    "    \"\"\"\n",
    "   this function calculate ammount to converted currency using conversion rate.\n",
    "    \"\"\"\n",
    "    return amount * conversion_rate"
   ]
  },
  {
   "cell_type": "code",
   "execution_count": 57,
   "id": "f304af7c",
   "metadata": {},
   "outputs": [
    {
     "data": {
      "text/plain": [
       "282.16"
      ]
     },
     "execution_count": 57,
     "metadata": {},
     "output_type": "execute_result"
    }
   ],
   "source": [
    "get_conversion_factor.invoke({'from_currency': 'USD', 'to_currency': 'PKR'})"
   ]
  },
  {
   "cell_type": "code",
   "execution_count": 58,
   "id": "dfb679ba",
   "metadata": {},
   "outputs": [
    {
     "data": {
      "text/plain": [
       "28050.0"
      ]
     },
     "execution_count": 58,
     "metadata": {},
     "output_type": "execute_result"
    }
   ],
   "source": [
    "convert.invoke({'amount': 100, 'conversion_rate': 280.5})"
   ]
  },
  {
   "cell_type": "code",
   "execution_count": 59,
   "id": "49541a44",
   "metadata": {},
   "outputs": [],
   "source": [
    "tools = [get_conversion_factor, convert]\n",
    "llm_with_tools = llm.bind_tools(tools)"
   ]
  },
  {
   "cell_type": "code",
   "execution_count": 60,
   "id": "2a70c0f8",
   "metadata": {},
   "outputs": [
    {
     "data": {
      "text/plain": [
       "AIMessage(content='', additional_kwargs={'function_call': {'name': 'get_conversion_factor', 'arguments': '{\"to_currency\": \"PKR\", \"from_currency\": \"USD\"}'}}, response_metadata={'prompt_feedback': {'block_reason': 0, 'safety_ratings': []}, 'finish_reason': 'STOP', 'safety_ratings': []}, id='run-03394a20-292a-4516-a4f0-8165d321678a-0', tool_calls=[{'name': 'get_conversion_factor', 'args': {'to_currency': 'PKR', 'from_currency': 'USD'}, 'id': '66015616-3d1c-4293-8df0-a3103a8e5189', 'type': 'tool_call'}], usage_metadata={'input_tokens': 77, 'output_tokens': 14, 'total_tokens': 91, 'input_token_details': {'cache_read': 0}})"
      ]
     },
     "execution_count": 60,
     "metadata": {},
     "output_type": "execute_result"
    }
   ],
   "source": [
    "llm_with_tools.invoke('what is the current exchange rate from USD to PKR? and convert 100 USD to PKR?')\n"
   ]
  },
  {
   "cell_type": "code",
   "execution_count": 67,
   "id": "ba1ad22e",
   "metadata": {},
   "outputs": [],
   "source": [
    "query = HumanMessage(\"what is the current exchange rate from USD to PKR? then using this  convert 100 USD to PKR?\")\n",
    "message = [query]"
   ]
  },
  {
   "cell_type": "code",
   "execution_count": 68,
   "id": "163ac82a",
   "metadata": {},
   "outputs": [],
   "source": [
    "AI_message = llm_with_tools.invoke(message)\n",
    "\n",
    "message.append(AI_message)"
   ]
  },
  {
   "cell_type": "code",
   "execution_count": 69,
   "id": "b07ac401",
   "metadata": {},
   "outputs": [
    {
     "data": {
      "text/plain": [
       "[{'name': 'get_conversion_factor',\n",
       "  'args': {'to_currency': 'PKR', 'from_currency': 'USD'},\n",
       "  'id': 'f9ff1c83-24f1-4bdd-9ac1-55503a02e733',\n",
       "  'type': 'tool_call'}]"
      ]
     },
     "execution_count": 69,
     "metadata": {},
     "output_type": "execute_result"
    }
   ],
   "source": [
    "AI_message.tool_calls"
   ]
  },
  {
   "cell_type": "code",
   "execution_count": 72,
   "id": "00e8af56",
   "metadata": {},
   "outputs": [
    {
     "data": {
      "text/plain": [
       "[{'name': 'convert',\n",
       "  'args': {'amount': 100.0, 'conversion_rate': 280.5},\n",
       "  'id': '1972a397-0ac0-486c-8d70-524d4f30911e',\n",
       "  'type': 'tool_call'},\n",
       " {'name': 'get_conversion_factor',\n",
       "  'args': {'to_currency': 'PKR', 'from_currency': 'USD'},\n",
       "  'id': '588032e5-9ddd-454c-b1dd-f31855cfd2a0',\n",
       "  'type': 'tool_call'}]"
      ]
     },
     "execution_count": 72,
     "metadata": {},
     "output_type": "execute_result"
    }
   ],
   "source": [
    "llm_with_tools.invoke(\"convert 100 USD to PKR? conversion rate is 280.5 also find the conversion rate from USD to PKR?\").tool_calls"
   ]
  },
  {
   "cell_type": "code",
   "execution_count": null,
   "id": "13356b7b",
   "metadata": {},
   "outputs": [],
   "source": []
  }
 ],
 "metadata": {
  "kernelspec": {
   "display_name": "genAi",
   "language": "python",
   "name": "python3"
  },
  "language_info": {
   "codemirror_mode": {
    "name": "ipython",
    "version": 3
   },
   "file_extension": ".py",
   "mimetype": "text/x-python",
   "name": "python",
   "nbconvert_exporter": "python",
   "pygments_lexer": "ipython3",
   "version": "3.12.3"
  }
 },
 "nbformat": 4,
 "nbformat_minor": 5
}
