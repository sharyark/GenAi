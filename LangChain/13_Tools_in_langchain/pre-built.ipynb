{
 "cells": [
  {
   "cell_type": "code",
   "execution_count": 2,
   "id": "9dfa74d0-0b63-4110-9868-16f28f8b5e39",
   "metadata": {},
   "outputs": [],
   "source": [
    "from langchain_community.tools import DuckDuckGoSearchRun"
   ]
  },
  {
   "cell_type": "code",
   "execution_count": 7,
   "id": "2ab75263-ac3b-49d1-9366-7ca433753efc",
   "metadata": {},
   "outputs": [
    {
     "name": "stdout",
     "output_type": "stream",
     "text": [
      "Here's an updated schedule, live streaming details, full squads, qualifier scenarios and other details ahead of the IPL 2025 Playoffs. Punjab Kings will take on the Royal Challengers Bengaluru in a much-anticipated IPL 2025 Qualifier 1 in Mullanpur on May 29, Thursday. RCB faces Punjab Kings in IPL Qualifier 1 at Mullanpur Stadium. With Josh Hazlewood back, they aim for victory. Phil Salt's starts and Kohli's form are crucial. Ashwin criticizes Pant for withdrawing run-out appeal, saying it insults bowler and may scar him, lacking sportsmanship. Pant slammed a magnificent century -118 off 61 balls - to power Lucknow Super Giants to 227 for three against Royal Challengers Bengaluru in the final league fixture of IPL 2025\n"
     ]
    }
   ],
   "source": [
    "from langchain_community.tools import DuckDuckGoSearchRun\n",
    "from langchain_community.utilities import DuckDuckGoSearchAPIWrapper\n",
    "\n",
    "# Set up DuckDuckGo search for news\n",
    "search_tool = DuckDuckGoSearchRun(\n",
    "    api_wrapper=DuckDuckGoSearchAPIWrapper(source=\"news\")\n",
    ")\n",
    "\n",
    "results = search_tool.invoke(\"ipl\")\n",
    "\n",
    "print(results)"
   ]
  },
  {
   "cell_type": "code",
   "execution_count": 5,
   "id": "c1793255-2dba-4bde-8df3-c81554223d01",
   "metadata": {},
   "outputs": [
    {
     "name": "stdout",
     "output_type": "stream",
     "text": [
      "duckduckgo_search\n",
      "A wrapper around DuckDuckGo Search. Useful for when you need to answer questions about current events. Input should be a search query.\n",
      "{'query': {'description': 'search query to look up', 'title': 'Query', 'type': 'string'}}\n"
     ]
    }
   ],
   "source": [
    "print(search_tool.name)\n",
    "print(search_tool.description)\n",
    "print(search_tool.args)"
   ]
  },
  {
   "cell_type": "code",
   "execution_count": 5,
   "id": "f4c3382f-831f-43cf-bac5-ee5875ed5557",
   "metadata": {},
   "outputs": [
    {
     "name": "stdout",
     "output_type": "stream",
     "text": [
      "Executing command:\n",
      " mkdir delete_me\n",
      "\n"
     ]
    },
    {
     "name": "stderr",
     "output_type": "stream",
     "text": [
      "/home/hydra/Desktop/genAi/lib/python3.12/site-packages/langchain_community/tools/shell/tool.py:33: UserWarning: The shell tool has no safeguards by default. Use at your own risk.\n",
      "  warnings.warn(\n"
     ]
    }
   ],
   "source": [
    "from langchain_community.tools import ShellTool\n",
    "\n",
    "shell_tool = ShellTool()\n",
    "\n",
    "results = shell_tool.invoke('mkdir delete_me')\n",
    "\n",
    "print(results)"
   ]
  },
  {
   "cell_type": "code",
   "execution_count": 1,
   "id": "6f4275ca-04ea-4886-b865-55800ed4e075",
   "metadata": {},
   "outputs": [
    {
     "name": "stdout",
     "output_type": "stream",
     "text": [
      "hi\n"
     ]
    }
   ],
   "source": [
    "print(\"hi\")"
   ]
  },
  {
   "cell_type": "code",
   "execution_count": 8,
   "id": "ec15c51e",
   "metadata": {},
   "outputs": [],
   "source": [
    "from langchain_core.tools import tool"
   ]
  },
  {
   "cell_type": "code",
   "execution_count": 10,
   "id": "0b9c4fa0",
   "metadata": {},
   "outputs": [],
   "source": [
    "# setp 1\n",
    "def mul(a,b):\n",
    "    \"\"\"multiply two numbers\"\"\"\n",
    "    return a * b"
   ]
  },
  {
   "cell_type": "code",
   "execution_count": 11,
   "id": "fac777d2",
   "metadata": {},
   "outputs": [],
   "source": [
    "# step 2 add hints\n",
    "def mul(a: int, b: int) -> int:\n",
    "    \"\"\"multiply two numbers\"\"\"\n",
    "    return a * b"
   ]
  },
  {
   "cell_type": "code",
   "execution_count": 12,
   "id": "74ed22cd",
   "metadata": {},
   "outputs": [],
   "source": [
    "# step 3 add tool decorator\n",
    "@tool\n",
    "def mul(a: int, b: int) -> int:\n",
    "    \"\"\"multiply two numbers\"\"\"\n",
    "    return a * b"
   ]
  },
  {
   "cell_type": "code",
   "execution_count": 14,
   "id": "19007f8a",
   "metadata": {},
   "outputs": [
    {
     "data": {
      "text/plain": [
       "12"
      ]
     },
     "execution_count": 14,
     "metadata": {},
     "output_type": "execute_result"
    }
   ],
   "source": [
    "mul.invoke({'a':3,'b':4})"
   ]
  },
  {
   "cell_type": "code",
   "execution_count": 15,
   "id": "ceb3d3e7",
   "metadata": {},
   "outputs": [
    {
     "name": "stdout",
     "output_type": "stream",
     "text": [
      "mul\n",
      "multiply two numbers\n",
      "{'a': {'title': 'A', 'type': 'integer'}, 'b': {'title': 'B', 'type': 'integer'}}\n",
      "12\n"
     ]
    }
   ],
   "source": [
    "print(mul.name)\n",
    "print(mul.description)\n",
    "print(mul.args)\n",
    "print(mul.invoke({'a':3,'b':4}))"
   ]
  },
  {
   "cell_type": "markdown",
   "id": "706a5cac",
   "metadata": {},
   "source": [
    "## ------------------------------------------by using pydantic for validating---------------------------------------------"
   ]
  },
  {
   "cell_type": "code",
   "execution_count": 16,
   "id": "5bd16330",
   "metadata": {},
   "outputs": [],
   "source": [
    "from langchain.tools import StructuredTool\n",
    "from pydantic import BaseModel, Field"
   ]
  },
  {
   "cell_type": "code",
   "execution_count": 17,
   "id": "652e0475",
   "metadata": {},
   "outputs": [],
   "source": [
    "class MulInput(BaseModel):\n",
    "    a: int = Field(required=True, description=\"The first number to multiply\")\n",
    "    b: int = Field(required=True, description=\"The second number to multiply\")"
   ]
  },
  {
   "cell_type": "code",
   "execution_count": 18,
   "id": "690c295e",
   "metadata": {},
   "outputs": [],
   "source": [
    "def mul(a: int, b: int) -> int:\n",
    "    \"\"\"multiply two numbers\"\"\"\n",
    "    return a * b"
   ]
  },
  {
   "cell_type": "code",
   "execution_count": 19,
   "id": "0afefc26",
   "metadata": {},
   "outputs": [],
   "source": [
    "mul_tool = StructuredTool.from_function(\n",
    "    func=mul,\n",
    "    name=\"mul\",\n",
    "    description=\"multiply two numbers\",\n",
    "    args_schema=MulInput\n",
    ")"
   ]
  },
  {
   "cell_type": "code",
   "execution_count": 24,
   "id": "e660c3b0",
   "metadata": {},
   "outputs": [
    {
     "data": {
      "text/plain": [
       "12"
      ]
     },
     "execution_count": 24,
     "metadata": {},
     "output_type": "execute_result"
    }
   ],
   "source": [
    "mul_tool.invoke({'a': 3, 'b': 4})"
   ]
  },
  {
   "cell_type": "markdown",
   "id": "8a36eaef",
   "metadata": {},
   "source": [
    "## -------------------------------------- USING BASETOOL CLASS ---------------------------------"
   ]
  },
  {
   "cell_type": "code",
   "execution_count": 4,
   "id": "4252eab6",
   "metadata": {},
   "outputs": [],
   "source": [
    "from langchain.tools import BaseTool\n",
    "from typing import Type\n",
    "from pydantic import BaseModel, Field"
   ]
  },
  {
   "cell_type": "code",
   "execution_count": 5,
   "id": "5a7ca3a2",
   "metadata": {},
   "outputs": [],
   "source": [
    "# arg schema using pydantic\n",
    "\n",
    "class MultiplyInput(BaseModel):\n",
    "    a: int = Field(required=True, description=\"The first number to add\")\n",
    "    b: int = Field(required=True, description=\"The second number to add\")"
   ]
  },
  {
   "cell_type": "code",
   "execution_count": 6,
   "id": "d2ad7eb9",
   "metadata": {},
   "outputs": [],
   "source": [
    "class MultiplyTool(BaseTool):\n",
    "    name: str = \"multiply\"\n",
    "    description: str = \"Multiply two numbers\"\n",
    "\n",
    "    args_schema: Type[BaseModel] = MultiplyInput\n",
    "\n",
    "    def _run(self, a: int, b: int) -> int:\n",
    "        return a * b"
   ]
  },
  {
   "cell_type": "code",
   "execution_count": 8,
   "id": "7950627b",
   "metadata": {},
   "outputs": [],
   "source": [
    "multiply_tool = MultiplyTool()"
   ]
  },
  {
   "cell_type": "code",
   "execution_count": 9,
   "id": "0a21dc31",
   "metadata": {},
   "outputs": [
    {
     "name": "stdout",
     "output_type": "stream",
     "text": [
      "9\n",
      "multiply\n",
      "Multiply two numbers\n",
      "{'a': {'description': 'The first number to add', 'required': True, 'title': 'A', 'type': 'integer'}, 'b': {'description': 'The second number to add', 'required': True, 'title': 'B', 'type': 'integer'}}\n"
     ]
    }
   ],
   "source": [
    "result = multiply_tool.invoke({'a':3, 'b':3})\n",
    "\n",
    "print(result)\n",
    "print(multiply_tool.name)\n",
    "print(multiply_tool.description)\n",
    "\n",
    "print(multiply_tool.args)"
   ]
  },
  {
   "cell_type": "code",
   "execution_count": null,
   "id": "89d70031",
   "metadata": {},
   "outputs": [],
   "source": []
  }
 ],
 "metadata": {
  "kernelspec": {
   "display_name": "genAi",
   "language": "python",
   "name": "python3"
  },
  "language_info": {
   "codemirror_mode": {
    "name": "ipython",
    "version": 3
   },
   "file_extension": ".py",
   "mimetype": "text/x-python",
   "name": "python",
   "nbconvert_exporter": "python",
   "pygments_lexer": "ipython3",
   "version": "3.12.3"
  }
 },
 "nbformat": 4,
 "nbformat_minor": 5
}
