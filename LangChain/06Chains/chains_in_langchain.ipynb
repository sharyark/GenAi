{
 "cells": [
  {
   "cell_type": "code",
   "execution_count": 1,
   "metadata": {
    "id": "Vz5eYAcEC9m9"
   },
   "outputs": [],
   "source": [
    "# prompt: write code import langchain\n",
    "\n",
    "# !pip install langchain\n",
    "\n",
    "# from langchain.llms import OpenAI\n",
    "# from langchain.prompts import PromptTemplate\n",
    "# from langchain.chains import LLMChain\n"
   ]
  },
  {
   "cell_type": "markdown",
   "metadata": {
    "id": "Tx0vEC6mHTy-"
   },
   "source": [
    "## simple sequential chain"
   ]
  },
  {
   "cell_type": "code",
   "execution_count": 7,
   "metadata": {
    "id": "vsE36TNDDhl5"
   },
   "outputs": [],
   "source": [
    "from re import template\n",
    "from langchain_core.output_parsers import StrOutputParser\n",
    "from dotenv import  load_dotenv\n",
    "from langchain_core.messages import SystemMessage, AIMessage, HumanMessage\n",
    "from langchain_google_genai import ChatGoogleGenerativeAI\n",
    "from langchain_core.prompts import PromptTemplate\n"
   ]
  },
  {
   "cell_type": "code",
   "execution_count": 8,
   "metadata": {
    "colab": {
     "base_uri": "https://localhost:8080/"
    },
    "id": "wZP7T7eYHAoq",
    "outputId": "53f3d6b0-a6b6-401d-a9ab-6cfe41e5f523"
   },
   "outputs": [
    {
     "data": {
      "text/plain": [
       "True"
      ]
     },
     "execution_count": 8,
     "metadata": {},
     "output_type": "execute_result"
    }
   ],
   "source": [
    "\n",
    "load_dotenv()"
   ]
  },
  {
   "cell_type": "code",
   "execution_count": 16,
   "metadata": {
    "colab": {
     "base_uri": "https://localhost:8080/"
    },
    "id": "Cq7dmpnIHDup",
    "outputId": "9b2927c0-2c5f-445a-84fa-19b3f14fe85f"
   },
   "outputs": [
    {
     "name": "stdout",
     "output_type": "stream",
     "text": [
      "Model initialized successfully.\n"
     ]
    }
   ],
   "source": [
    "\n",
    "model = ChatGoogleGenerativeAI(\n",
    "        model=\"gemini-2.0-flash\",\n",
    "        temperature=0,\n",
    "        max_tokens=None,\n",
    "        timeout=None,\n",
    "        max_retries=2,\n",
    "    )\n",
    "print(\"Model initialized successfully.\")\n",
    "\n",
    "\n",
    "parser = StrOutputParser()\n",
    "\n",
    "prompt = PromptTemplate(\n",
    "    template=\"give me detailed report about {name}?\",\n",
    "    input_variables=[\"name\"],\n",
    ")\n",
    "\n",
    "chain = prompt | model | parser\n"
   ]
  },
  {
   "cell_type": "code",
   "execution_count": 15,
   "metadata": {
    "colab": {
     "base_uri": "https://localhost:8080/",
     "height": 53
    },
    "id": "HqhnCTpAEl1F",
    "outputId": "f583cb82-011f-4de7-fc89-21c1ecc1f8c3"
   },
   "outputs": [
    {
     "data": {
      "text/plain": [
       "'Betrayal, tyranny, stories, transformation, ambiguity.'"
      ]
     },
     "execution_count": 15,
     "metadata": {},
     "output_type": "execute_result"
    }
   ],
   "source": [
    "chain.invoke({\"name\": \"sharyar\"})"
   ]
  },
  {
   "cell_type": "markdown",
   "metadata": {
    "id": "zlIp0bkgIFGE"
   },
   "source": [
    "## here is bit complex chain"
   ]
  },
  {
   "cell_type": "code",
   "execution_count": 11,
   "metadata": {
    "id": "1bBbKTc7Gwaf"
   },
   "outputs": [],
   "source": [
    "prompt1 = PromptTemplate(\n",
    "    template=\"extract five word summary from {topic}?\",\n",
    "    input_variables=[\"topic\"],\n",
    ")\n",
    "\n",
    "chain = prompt | model | parser | prompt1 | model | parser"
   ]
  },
  {
   "cell_type": "code",
   "execution_count": 12,
   "metadata": {
    "colab": {
     "base_uri": "https://localhost:8080/",
     "height": 35
    },
    "id": "6UF1HEhgGz51",
    "outputId": "8734bd70-5e7f-48ea-98c7-c18eb6e1090b"
   },
   "outputs": [
    {
     "data": {
      "text/plain": [
       "'Love: Complex, biological, psychological, social.'"
      ]
     },
     "execution_count": 12,
     "metadata": {},
     "output_type": "execute_result"
    }
   ],
   "source": [
    "chain.invoke({\"name\": \"love\"})"
   ]
  },
  {
   "cell_type": "code",
   "execution_count": 13,
   "metadata": {
    "id": "UUmr4KKXIKG1"
   },
   "outputs": [],
   "source": [
    "# chain.get_graph().print_ascii()"
   ]
  },
  {
   "cell_type": "markdown",
   "metadata": {
    "id": "-cnHzHtfKZbd"
   },
   "source": [
    "##**form a simple paralel chain**"
   ]
  },
  {
   "cell_type": "code",
   "execution_count": null,
   "metadata": {
    "id": "v70JF1JMJRws"
   },
   "outputs": [],
   "source": [
    "prompt2 = PromptTemplate(\n",
    "    template=\"write quiz from given paragraph {topic}?\",\n",
    "    input_variables=[\"topic\"],\n",
    ")"
   ]
  },
  {
   "cell_type": "code",
   "execution_count": null,
   "metadata": {
    "id": "OkLzmfU7KsTB"
   },
   "outputs": [],
   "source": [
    "prompt3 = PromptTemplate(\n",
    "    template=\"write notes from given paragraph {topic}?\",\n",
    "    input_variables=[\"topic\"],\n",
    ")"
   ]
  },
  {
   "cell_type": "code",
   "execution_count": null,
   "metadata": {
    "id": "M3SHFSRxMlHY"
   },
   "outputs": [],
   "source": [
    "prompt4 = PromptTemplate(\n",
    "    template=\"merge the provided notes into single document and quiz notes--> {notes} quiz--> {quiz}?\",\n",
    "    input_variables=[\"notes\",'quiz'],\n",
    ")"
   ]
  },
  {
   "cell_type": "code",
   "execution_count": null,
   "metadata": {
    "id": "JdOc2VNmKyFu"
   },
   "outputs": [],
   "source": [
    "from langchain_core.runnables import RunnableParallel\n",
    "parallel_chain = RunnableParallel(\n",
    "    {\n",
    "      'notes' : prompt2 | model | parser,\n",
    "     'quiz': prompt3 | model | parser\n",
    "     }\n",
    ")"
   ]
  },
  {
   "cell_type": "code",
   "execution_count": null,
   "metadata": {
    "id": "s9yJOfb6MPQc"
   },
   "outputs": [],
   "source": [
    "merge_chain = prompt4 | model | parser"
   ]
  },
  {
   "cell_type": "code",
   "execution_count": null,
   "metadata": {
    "id": "u-v5ji_vM2GX"
   },
   "outputs": [],
   "source": [
    "chain = parallel_chain | merge_chain"
   ]
  },
  {
   "cell_type": "code",
   "execution_count": null,
   "metadata": {
    "colab": {
     "base_uri": "https://localhost:8080/",
     "height": 105
    },
    "id": "Zjdtr8oZM5nc",
    "outputId": "91273257-abd9-4d0c-fa3b-fd7a1d032276"
   },
   "outputs": [
    {
     "data": {
      "application/vnd.google.colaboratory.intrinsic+json": {
       "type": "string"
      },
      "text/plain": [
       "\"## A Simple Life: Understanding and Embracing It\\n\\nThis document combines key ideas about living a simple life with a quiz to test your understanding.\\n\\n**Simple Life: Key Ideas**\\n\\n*   **Core Principles:**\\n    *   Minimalism: Reducing unnecessary possessions and commitments.\\n    *   Contentment: Finding satisfaction with what you have, rather than constantly striving for more.\\n    *   Mindfulness: Paying attention to the present moment without judgment.\\n\\n*   **Focus:**\\n    *   Joy in small things: Appreciating the beauty and pleasure found in everyday experiences like quiet mornings, meaningful conversations, and nature walks.\\n    *   Internal validation, not external: Seeking approval and satisfaction from within, rather than relying on the opinions of others.\\n\\n*   **Benefits:**\\n    *   Reduced stress/distractions: Eliminating unnecessary clutter and commitments to create a calmer and more focused life.\\n    *   Clarity, peace: Gaining a clearer understanding of your values and priorities, leading to a greater sense of inner peace.\\n    *   Genuine connection (self & others): Fostering deeper and more meaningful relationships with yourself and the people around you.\\n\\n*   **Key Point:**\\n    *   Not about *less*, but about prioritizing what *matters*: A simple life isn't about deprivation, but about consciously choosing to focus on the things that bring you true joy and fulfillment.\\n\\n---\\n\\n**Quiz: Understanding a Simple Life**\\n\\n**Instructions:** Choose the best answer for each question.\\n\\n**1. According to the text, a simple life is characterized by:**\\n\\na) Constant pursuit of material success.\\nb) Embracing minimalism, contentment, and mindfulness.\\nc) Seeking external validation from others.\\nd) Avoiding all forms of enjoyment.\\n\\n**2. The text suggests that finding joy in a simple life comes from:**\\n\\na) Accumulating wealth and possessions.\\nb) Quiet mornings, meaningful conversations, and nature walks.\\nc) Constant activity and social engagements.\\nd) Ignoring personal needs and desires.\\n\\n**3. A simple life, as described in the text, aims to:**\\n\\na) Increase stress and distractions.\\nb) Create space for clarity, peace, and genuine connection.\\nc) Isolate oneself from others.\\nd) Focus solely on material possessions.\\n\\n**4. The text emphasizes that a simple life is NOT about:**\\n\\na) Having less.\\nb) Making room for what truly matters.\\nc) Reducing unnecessary stress.\\nd) Being content with what you have.\\n\\n**5. What is the main idea of the text?**\\n\\na) A simple life is about being poor and deprived.\\nb) A simple life is about finding happiness and fulfillment by focusing on what truly matters.\\nc) A simple life is about avoiding all forms of work and responsibility.\\nd) A simple life is about isolating yourself from society.\\n\\n**Answer Key:**\\n\\n1.  b\\n2.  b\\n3.  b\\n4.  a\\n5.  b\""
      ]
     },
     "execution_count": 52,
     "metadata": {},
     "output_type": "execute_result"
    }
   ],
   "source": [
    "chain.invoke({\"topic\": \"A simple life is one that embraces minimalism, contentment, and mindfulness. It’s about finding joy in the little things—like a quiet morning, meaningful conversations, or a walk in nature—rather than constantly chasing material success or external validation. By reducing unnecessary stress and distractions, a simple life creates space for clarity, peace, and genuine connection with yourself and others. It’s not about having less, but about making room for what truly matter\"})"
   ]
  },
  {
   "cell_type": "markdown",
   "metadata": {},
   "source": [
    "## here are conditional chain"
   ]
  },
  {
   "cell_type": "code",
   "execution_count": 27,
   "metadata": {},
   "outputs": [],
   "source": [
    "from pydantic import BaseModel, Field\n",
    "from langchain_core.output_parsers import PydanticOutputParser\n",
    "\n",
    "# Define the structured output model\n",
    "class SentimentOutput(BaseModel):\n",
    "    sentiment: str = Field(..., description=\"The sentiment of the feedback, either 'positive' or 'negative'.\")\n",
    "\n",
    "# Create a PydanticOutputParser\n",
    "pydantic_parser = PydanticOutputParser(pydantic_object=SentimentOutput)\n"
   ]
  },
  {
   "cell_type": "code",
   "execution_count": 30,
   "metadata": {
    "id": "_oaFGNHTNA1g"
   },
   "outputs": [],
   "source": [
    "cn_prompt = PromptTemplate(\n",
    "    template=\"give feedback in negative or positive  sentiment {topic}? ,{format_instructions}\",\n",
    "    input_variables=[\"topic\"],\n",
    "    partial_variables={\"format_instructions\": pydantic_parser.get_format_instructions()},\n",
    ")"
   ]
  },
  {
   "cell_type": "code",
   "execution_count": 44,
   "metadata": {},
   "outputs": [],
   "source": [
    "classifier_chain = cn_prompt | model | pydantic_parser"
   ]
  },
  {
   "cell_type": "code",
   "execution_count": 45,
   "metadata": {},
   "outputs": [
    {
     "data": {
      "text/plain": [
       "'negative'"
      ]
     },
     "execution_count": 45,
     "metadata": {},
     "output_type": "execute_result"
    }
   ],
   "source": [
    "classifier_chain.invoke({\"topic\" : \"this is a terible product\"}).sentiment"
   ]
  },
  {
   "cell_type": "code",
   "execution_count": 46,
   "metadata": {},
   "outputs": [],
   "source": [
    "prompt_negative = PromptTemplate(\n",
    "    template=\"write a response to this feedback {topic}?\",\n",
    "    input_variables=[\"topic\"]\n",
    ")\n",
    "prompt_positive = PromptTemplate(\n",
    "    template=\"write a response to this feedback {topic}?\",\n",
    "    input_variables=[\"topic\"]\n",
    ")"
   ]
  },
  {
   "cell_type": "code",
   "execution_count": 47,
   "metadata": {},
   "outputs": [],
   "source": [
    "from langchain_core.runnables import RunnableBranch\n",
    "from langchain_core.runnables import RunnableLambda"
   ]
  },
  {
   "cell_type": "code",
   "execution_count": 48,
   "metadata": {},
   "outputs": [],
   "source": [
    "\n",
    "branch_chain = RunnableBranch(\n",
    "    (lambda x: x.sentiment == \"positive\", prompt_positive | model | parser),\n",
    "    (lambda x: x.sentiment == \"negative\", prompt_negative | model | parser),\n",
    "    RunnableLambda(lambda x: \"could not determine sentiment\")\n",
    ")\n"
   ]
  },
  {
   "cell_type": "code",
   "execution_count": 49,
   "metadata": {},
   "outputs": [],
   "source": [
    "chain = classifier_chain | branch_chain"
   ]
  },
  {
   "cell_type": "code",
   "execution_count": 50,
   "metadata": {},
   "outputs": [
    {
     "data": {
      "text/plain": [
       "'Okay, I understand the feedback is negative. Here\\'s a breakdown of how I can respond, depending on the context and what you want to achieve:\\n\\n**General Principles for Responding to Negative Feedback:**\\n\\n*   **Acknowledge and Validate:** Show that you\\'ve heard and understood the feedback.\\n*   **Be Empathetic:** Try to see things from the other person\\'s perspective.\\n*   **Apologize (If Appropriate):** If you made a mistake or caused inconvenience, a sincere apology is crucial.\\n*   **Explain (If Necessary):** Provide context or reasoning, but avoid making excuses.\\n*   **Offer a Solution or Plan:** If possible, suggest how you\\'ll address the issue or prevent it from happening again.\\n*   **Thank the Person:** Express gratitude for the feedback, as it helps you improve.\\n*   **Keep it Professional:** Maintain a respectful and courteous tone.\\n\\n**Possible Responses (Choose the one that best fits your situation):**\\n\\n**1. Simple Acknowledgment and Gratitude:**\\n\\n*   \"Thank you for your feedback. I appreciate you taking the time to share your thoughts.\"\\n*   \"I understand your concerns, and I appreciate you bringing them to my attention.\"\\n\\n**2. Acknowledgment, Apology (If Applicable), and Promise to Improve:**\\n\\n*   \"I\\'m sorry to hear that you had a negative experience. Thank you for letting me know. I will take your feedback into consideration as we work to improve.\"\\n*   \"I apologize that [specific issue mentioned in the feedback] caused you [negative consequence]. We are working on [solution/improvement] to prevent this from happening again. Thank you for your feedback; it\\'s valuable to us.\"\\n\\n**3. Seeking Clarification (If Needed):**\\n\\n*   \"Thank you for your feedback. To help me understand better, could you please provide more details about [specific aspect of the feedback]?\"\\n*   \"I appreciate you sharing your experience. Could you elaborate on what specifically you found [negative aspect]?\"\\n\\n**4. Taking Ownership and Offering a Solution:**\\n\\n*   \"I\\'m sorry that you experienced [negative situation]. I take full responsibility. To resolve this, I will [specific action to fix the problem].\"\\n*   \"I understand your frustration. I\\'m going to [steps to address the issue] right away. Thank you for bringing this to my attention.\"\\n\\n**5. If the Feedback is Unclear or Vague:**\\n\\n*   \"Thank you for your feedback. I\\'m always looking for ways to improve. Could you provide more specific examples of what you\\'re referring to?\"\\n\\n**Important Considerations:**\\n\\n*   **Be Specific:** Tailor your response to the specific feedback you received. Don\\'t give a generic answer.\\n*   **Be Timely:** Respond as quickly as possible.\\n*   **Be Genuine:** Your response should sound sincere.\\n*   **Consider the Platform:** The appropriate tone and length of your response may vary depending on where you received the feedback (e.g., email, social media, review site).\\n*   **Don\\'t Argue or Get Defensive:** Even if you disagree with the feedback, avoid getting into an argument. Focus on understanding the other person\\'s perspective.\\n*   **Follow Up (If Necessary):** If you promised to take action, follow up with the person to let them know what you\\'ve done.\\n\\n**Example Scenario:**\\n\\nLet\\'s say the negative feedback is: \"The website was very slow and difficult to navigate.\"\\n\\nHere\\'s a possible response:\\n\\n\"Thank you for your feedback. I\\'m sorry to hear that you found the website slow and difficult to navigate. We are aware of some performance issues and are actively working to improve the website\\'s speed and user experience. We\\'re currently optimizing images and streamlining the navigation.  Could you tell me which specific pages you found most problematic? Your input is very helpful. Thank you again for bringing this to our attention.\"\\n\\n**In summary, to give you the *best* response, I need more context.  Please provide the actual feedback you received, and I can craft a more tailored and effective reply.**'"
      ]
     },
     "execution_count": 50,
     "metadata": {},
     "output_type": "execute_result"
    }
   ],
   "source": [
    "chain.invoke({\"topic\" : \"this is a terible product\"})"
   ]
  },
  {
   "cell_type": "code",
   "execution_count": null,
   "metadata": {},
   "outputs": [],
   "source": []
  }
 ],
 "metadata": {
  "colab": {
   "provenance": []
  },
  "kernelspec": {
   "display_name": "Python 3 (ipykernel)",
   "language": "python",
   "name": "python3"
  },
  "language_info": {
   "codemirror_mode": {
    "name": "ipython",
    "version": 3
   },
   "file_extension": ".py",
   "mimetype": "text/x-python",
   "name": "python",
   "nbconvert_exporter": "python",
   "pygments_lexer": "ipython3",
   "version": "3.12.3"
  }
 },
 "nbformat": 4,
 "nbformat_minor": 4
}
