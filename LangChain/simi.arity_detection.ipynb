{
 "cells": [
  {
   "cell_type": "markdown",
   "metadata": {},
   "source": [
    "### in this snipit i have built small system in which you give query it give you similar answere in your uploaded documents"
   ]
  },
  {
   "cell_type": "code",
   "execution_count": 2,
   "metadata": {},
   "outputs": [],
   "source": [
    "from langchain_huggingface import HuggingFaceEmbeddings\n",
    "from sklearn.metrics.pairwise import cosine_similarity\n",
    "import numpy as np"
   ]
  },
  {
   "cell_type": "code",
   "execution_count": 13,
   "metadata": {},
   "outputs": [],
   "source": [
    "# Initialize embedding model\n",
    "embedding = HuggingFaceEmbeddings(model_name='sentence-transformers/all-MiniLM-L6-v2')"
   ]
  },
  {
   "cell_type": "code",
   "execution_count": 14,
   "metadata": {},
   "outputs": [],
   "source": [
    "# Define documents\n",
    "documents = [\n",
    "    \"islamabad is the capital of pakistan\",\n",
    "    \"Kolkata is the capital of West Bengal\",\n",
    "    \"Paris is the capital of France\",\n",
    "    \"london is the capital of england\",\n",
    "    \"New Delhi is the capital of India\",\n",
    "    \"Tokyo is the capital of Japan\",\n",
    "    \"Rome is the capital of Italy\",\n",
    "    \"Berlin is the capital of Germany\",\n",
    "    \"Canberra is the capital of Australia\",\n",
    "    \"Beijing is the capital of China\"\n",
    "]"
   ]
  },
  {
   "cell_type": "code",
   "execution_count": 15,
   "metadata": {},
   "outputs": [],
   "source": [
    "# Embed the documents\n",
    "doc_vectors = embedding.embed_documents(documents)"
   ]
  },
  {
   "cell_type": "code",
   "execution_count": 16,
   "metadata": {},
   "outputs": [],
   "source": [
    "# Define query\n",
    "query = \"Which city is the capital of India?\""
   ]
  },
  {
   "cell_type": "code",
   "execution_count": 27,
   "metadata": {},
   "outputs": [],
   "source": [
    "# Embed the query\n",
    "query_vector = embedding.embed_query(query)\n",
    "# print(len(query_vector))\n",
    "# print(len(doc_vectors[0]))"
   ]
  },
  {
   "cell_type": "code",
   "execution_count": 18,
   "metadata": {},
   "outputs": [],
   "source": [
    "# Compute cosine similarity\n",
    "similarities = cosine_similarity([query_vector], doc_vectors)"
   ]
  },
  {
   "cell_type": "code",
   "execution_count": 32,
   "metadata": {},
   "outputs": [
    {
     "name": "stdout",
     "output_type": "stream",
     "text": [
      "[[0.52347874 0.54875107 0.33225017 0.40809393 0.67071947 0.49699873\n",
      "  0.47034868 0.41467362 0.38416691 0.4504844 ]]\n"
     ]
    }
   ],
   "source": [
    "# Get similarity scores\n",
    "similarity_scores = similarities[0]\n",
    "print(similarities)"
   ]
  },
  {
   "cell_type": "code",
   "execution_count": 40,
   "metadata": {},
   "outputs": [
    {
     "name": "stdout",
     "output_type": "stream",
     "text": [
      "<enumerate object at 0x71b1cc34b970>\n",
      "[(4, np.float64(0.6707194686739131)), (1, np.float64(0.5487510667529765)), (0, np.float64(0.5234787440931817)), (5, np.float64(0.4969987250698379)), (6, np.float64(0.47034867972188676)), (9, np.float64(0.45048439696872083)), (7, np.float64(0.4146736216504604)), (3, np.float64(0.40809392714583415)), (8, np.float64(0.38416690991350344)), (2, np.float64(0.33225017208188135))]\n"
     ]
    }
   ],
   "source": [
    "# Pair documents with their similarity scores\n",
    "# results = list(zip(documents, similarity_scores))\n",
    "results = enumerate(similarity_scores)\n",
    "print(results)\n",
    "results = list(results)\n",
    "sorted_results = sorted(results, key=lambda x: x[1], reverse=True)\n",
    "print(sorted_results)"
   ]
  },
  {
   "cell_type": "code",
   "execution_count": 42,
   "metadata": {},
   "outputs": [
    {
     "data": {
      "text/plain": [
       "'New Delhi is the capital of India'"
      ]
     },
     "execution_count": 42,
     "metadata": {},
     "output_type": "execute_result"
    }
   ],
   "source": [
    "documents[sorted_results[0][0]]"
   ]
  },
  {
   "cell_type": "code",
   "execution_count": 23,
   "metadata": {},
   "outputs": [
    {
     "name": "stdout",
     "output_type": "stream",
     "text": [
      "[('New Delhi is the capital of India', np.float64(0.6707194686739131)), ('Kolkata is the capital of West Bengal', np.float64(0.5487510667529765)), ('islamabad is the capital of pakistan', np.float64(0.5234787440931817)), ('Tokyo is the capital of Japan', np.float64(0.4969987250698379)), ('Rome is the capital of Italy', np.float64(0.47034867972188676)), ('Beijing is the capital of China', np.float64(0.45048439696872083)), ('Berlin is the capital of Germany', np.float64(0.4146736216504604)), ('london is the capital of england', np.float64(0.40809392714583415)), ('Canberra is the capital of Australia', np.float64(0.38416690991350344)), ('Paris is the capital of France', np.float64(0.33225017208188135))]\n"
     ]
    }
   ],
   "source": [
    "# Output results\n",
    "print(sorted_results)"
   ]
  },
  {
   "cell_type": "code",
   "execution_count": null,
   "metadata": {},
   "outputs": [],
   "source": []
  }
 ],
 "metadata": {
  "kernelspec": {
   "display_name": "genai",
   "language": "python",
   "name": "python3"
  },
  "language_info": {
   "codemirror_mode": {
    "name": "ipython",
    "version": 3
   },
   "file_extension": ".py",
   "mimetype": "text/x-python",
   "name": "python",
   "nbconvert_exporter": "python",
   "pygments_lexer": "ipython3",
   "version": "3.12.3"
  }
 },
 "nbformat": 4,
 "nbformat_minor": 2
}
