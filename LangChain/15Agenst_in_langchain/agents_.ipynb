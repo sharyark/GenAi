{
 "cells": [
  {
   "cell_type": "code",
   "execution_count": 1,
   "id": "8612bd8b",
   "metadata": {},
   "outputs": [
    {
     "name": "stderr",
     "output_type": "stream",
     "text": [
      "/home/hydra/Desktop/genAi/lib/python3.12/site-packages/tqdm/auto.py:21: TqdmWarning: IProgress not found. Please update jupyter and ipywidgets. See https://ipywidgets.readthedocs.io/en/stable/user_install.html\n",
      "  from .autonotebook import tqdm as notebook_tqdm\n"
     ]
    }
   ],
   "source": [
    "import os\n",
    "from dotenv import load_dotenv\n",
    "from langchain_google_genai import ChatGoogleGenerativeAI\n",
    "from langchain_core.tools import tool\n",
    "from langchain_core.messages import HumanMessage\n",
    "import requests"
   ]
  },
  {
   "cell_type": "code",
   "execution_count": 2,
   "id": "36d9b1a3",
   "metadata": {},
   "outputs": [],
   "source": [
    "load_dotenv()\n",
    "google_api_key = os.getenv(\"GOOGLE_API_KEY\")"
   ]
  },
  {
   "cell_type": "code",
   "execution_count": 3,
   "id": "d8c113d2",
   "metadata": {},
   "outputs": [],
   "source": [
    "llm = ChatGoogleGenerativeAI(\n",
    "    model= \"gemini-2.0-flash\",\n",
    "    temperature=1.0,\n",
    "    max_retries=2,\n",
    "    google_api_key=google_api_key,\n",
    ")"
   ]
  },
  {
   "cell_type": "code",
   "execution_count": null,
   "id": "e2a1470e",
   "metadata": {},
   "outputs": [],
   "source": [
    "from langchain_core.tools import tool\n",
    "# @tool\n",
    "def get_weather(city: str) -> str:\n",
    "    \"\"\"\n",
    "    Get the current weather for a given city.\n",
    "    \"\"\"\n",
    "    # Option 1: Use environment variable (RECOMMENDED)\n",
    "    # api_key = os.getenv(\"WEATHER_API_KEY\")\n",
    "    # print(api_key)\n",
    "    # Option 2: Hardcode (NOT recommended for production)\n",
    "    api_key = \"089dc2f9a5f34326b4a135839251806d\"\n",
    "    \n",
    "    if not api_key:\n",
    "        raise ValueError(\"API key for weather service is not set.\")\n",
    "    \n",
    "    url = f\"http://api.weatherapi.com/v1/current.json?key={api_key}&q={city}&aqi=no\"\n",
    "    response = requests.get(url)\n",
    "    \n",
    "    if response.status_code != 200:\n",
    "        raise ValueError(f\"Error fetching weather data: {response.status_code}\")\n",
    "    \n",
    "    data = response.json()\n",
    "    condition = data['current']['condition']['text']\n",
    "    temperature = data['current']['temp_c']\n",
    "    \n",
    "    return f\"The current weather in {city} is {condition} with a temperature of {temperature}°C.\"\n"
   ]
  },
  {
   "cell_type": "code",
   "execution_count": 24,
   "id": "8e19daea",
   "metadata": {},
   "outputs": [
    {
     "ename": "ValueError",
     "evalue": "Error fetching weather data: 401",
     "output_type": "error",
     "traceback": [
      "\u001b[31m---------------------------------------------------------------------------\u001b[39m",
      "\u001b[31mValueError\u001b[39m                                Traceback (most recent call last)",
      "\u001b[36mCell\u001b[39m\u001b[36m \u001b[39m\u001b[32mIn[24]\u001b[39m\u001b[32m, line 1\u001b[39m\n\u001b[32m----> \u001b[39m\u001b[32m1\u001b[39m \u001b[43mget_weather\u001b[49m\u001b[43m(\u001b[49m\u001b[33;43m\"\u001b[39;49m\u001b[33;43mislamabad\u001b[39;49m\u001b[33;43m\"\u001b[39;49m\u001b[43m)\u001b[49m\n",
      "\u001b[36mFile \u001b[39m\u001b[32m~/Desktop/genAi/lib/python3.12/site-packages/langchain_core/_api/deprecation.py:191\u001b[39m, in \u001b[36mdeprecated.<locals>.deprecate.<locals>.warning_emitting_wrapper\u001b[39m\u001b[34m(*args, **kwargs)\u001b[39m\n\u001b[32m    189\u001b[39m     warned = \u001b[38;5;28;01mTrue\u001b[39;00m\n\u001b[32m    190\u001b[39m     emit_warning()\n\u001b[32m--> \u001b[39m\u001b[32m191\u001b[39m \u001b[38;5;28;01mreturn\u001b[39;00m \u001b[43mwrapped\u001b[49m\u001b[43m(\u001b[49m\u001b[43m*\u001b[49m\u001b[43margs\u001b[49m\u001b[43m,\u001b[49m\u001b[43m \u001b[49m\u001b[43m*\u001b[49m\u001b[43m*\u001b[49m\u001b[43mkwargs\u001b[49m\u001b[43m)\u001b[49m\n",
      "\u001b[36mFile \u001b[39m\u001b[32m~/Desktop/genAi/lib/python3.12/site-packages/langchain_core/tools/base.py:896\u001b[39m, in \u001b[36mBaseTool.__call__\u001b[39m\u001b[34m(self, tool_input, callbacks)\u001b[39m\n\u001b[32m    893\u001b[39m \u001b[38;5;129m@deprecated\u001b[39m(\u001b[33m\"\u001b[39m\u001b[33m0.1.47\u001b[39m\u001b[33m\"\u001b[39m, alternative=\u001b[33m\"\u001b[39m\u001b[33minvoke\u001b[39m\u001b[33m\"\u001b[39m, removal=\u001b[33m\"\u001b[39m\u001b[33m1.0\u001b[39m\u001b[33m\"\u001b[39m)\n\u001b[32m    894\u001b[39m \u001b[38;5;28;01mdef\u001b[39;00m\u001b[38;5;250m \u001b[39m\u001b[34m__call__\u001b[39m(\u001b[38;5;28mself\u001b[39m, tool_input: \u001b[38;5;28mstr\u001b[39m, callbacks: Callbacks = \u001b[38;5;28;01mNone\u001b[39;00m) -> \u001b[38;5;28mstr\u001b[39m:\n\u001b[32m    895\u001b[39m \u001b[38;5;250m    \u001b[39m\u001b[33;03m\"\"\"Make tool callable.\"\"\"\u001b[39;00m\n\u001b[32m--> \u001b[39m\u001b[32m896\u001b[39m     \u001b[38;5;28;01mreturn\u001b[39;00m \u001b[38;5;28;43mself\u001b[39;49m\u001b[43m.\u001b[49m\u001b[43mrun\u001b[49m\u001b[43m(\u001b[49m\u001b[43mtool_input\u001b[49m\u001b[43m,\u001b[49m\u001b[43m \u001b[49m\u001b[43mcallbacks\u001b[49m\u001b[43m=\u001b[49m\u001b[43mcallbacks\u001b[49m\u001b[43m)\u001b[49m\n",
      "\u001b[36mFile \u001b[39m\u001b[32m~/Desktop/genAi/lib/python3.12/site-packages/langchain_core/tools/base.py:774\u001b[39m, in \u001b[36mBaseTool.run\u001b[39m\u001b[34m(self, tool_input, verbose, start_color, color, callbacks, tags, metadata, run_name, run_id, config, tool_call_id, **kwargs)\u001b[39m\n\u001b[32m    772\u001b[39m \u001b[38;5;28;01mif\u001b[39;00m error_to_raise:\n\u001b[32m    773\u001b[39m     run_manager.on_tool_error(error_to_raise)\n\u001b[32m--> \u001b[39m\u001b[32m774\u001b[39m     \u001b[38;5;28;01mraise\u001b[39;00m error_to_raise\n\u001b[32m    775\u001b[39m output = _format_output(content, artifact, tool_call_id, \u001b[38;5;28mself\u001b[39m.name, status)\n\u001b[32m    776\u001b[39m run_manager.on_tool_end(output, color=color, name=\u001b[38;5;28mself\u001b[39m.name, **kwargs)\n",
      "\u001b[36mFile \u001b[39m\u001b[32m~/Desktop/genAi/lib/python3.12/site-packages/langchain_core/tools/base.py:743\u001b[39m, in \u001b[36mBaseTool.run\u001b[39m\u001b[34m(self, tool_input, verbose, start_color, color, callbacks, tags, metadata, run_name, run_id, config, tool_call_id, **kwargs)\u001b[39m\n\u001b[32m    741\u001b[39m     \u001b[38;5;28;01mif\u001b[39;00m config_param := _get_runnable_config_param(\u001b[38;5;28mself\u001b[39m._run):\n\u001b[32m    742\u001b[39m         tool_kwargs = tool_kwargs | {config_param: config}\n\u001b[32m--> \u001b[39m\u001b[32m743\u001b[39m     response = \u001b[43mcontext\u001b[49m\u001b[43m.\u001b[49m\u001b[43mrun\u001b[49m\u001b[43m(\u001b[49m\u001b[38;5;28;43mself\u001b[39;49m\u001b[43m.\u001b[49m\u001b[43m_run\u001b[49m\u001b[43m,\u001b[49m\u001b[43m \u001b[49m\u001b[43m*\u001b[49m\u001b[43mtool_args\u001b[49m\u001b[43m,\u001b[49m\u001b[43m \u001b[49m\u001b[43m*\u001b[49m\u001b[43m*\u001b[49m\u001b[43mtool_kwargs\u001b[49m\u001b[43m)\u001b[49m\n\u001b[32m    744\u001b[39m \u001b[38;5;28;01mif\u001b[39;00m \u001b[38;5;28mself\u001b[39m.response_format == \u001b[33m\"\u001b[39m\u001b[33mcontent_and_artifact\u001b[39m\u001b[33m\"\u001b[39m:\n\u001b[32m    745\u001b[39m     \u001b[38;5;28;01mif\u001b[39;00m \u001b[38;5;129;01mnot\u001b[39;00m \u001b[38;5;28misinstance\u001b[39m(response, \u001b[38;5;28mtuple\u001b[39m) \u001b[38;5;129;01mor\u001b[39;00m \u001b[38;5;28mlen\u001b[39m(response) != \u001b[32m2\u001b[39m:\n",
      "\u001b[36mFile \u001b[39m\u001b[32m~/Desktop/genAi/lib/python3.12/site-packages/langchain_core/tools/structured.py:93\u001b[39m, in \u001b[36mStructuredTool._run\u001b[39m\u001b[34m(self, config, run_manager, *args, **kwargs)\u001b[39m\n\u001b[32m     91\u001b[39m     \u001b[38;5;28;01mif\u001b[39;00m config_param := _get_runnable_config_param(\u001b[38;5;28mself\u001b[39m.func):\n\u001b[32m     92\u001b[39m         kwargs[config_param] = config\n\u001b[32m---> \u001b[39m\u001b[32m93\u001b[39m     \u001b[38;5;28;01mreturn\u001b[39;00m \u001b[38;5;28;43mself\u001b[39;49m\u001b[43m.\u001b[49m\u001b[43mfunc\u001b[49m\u001b[43m(\u001b[49m\u001b[43m*\u001b[49m\u001b[43margs\u001b[49m\u001b[43m,\u001b[49m\u001b[43m \u001b[49m\u001b[43m*\u001b[49m\u001b[43m*\u001b[49m\u001b[43mkwargs\u001b[49m\u001b[43m)\u001b[49m\n\u001b[32m     94\u001b[39m msg = \u001b[33m\"\u001b[39m\u001b[33mStructuredTool does not support sync invocation.\u001b[39m\u001b[33m\"\u001b[39m\n\u001b[32m     95\u001b[39m \u001b[38;5;28;01mraise\u001b[39;00m \u001b[38;5;167;01mNotImplementedError\u001b[39;00m(msg)\n",
      "\u001b[36mCell\u001b[39m\u001b[36m \u001b[39m\u001b[32mIn[21]\u001b[39m\u001b[32m, line 20\u001b[39m, in \u001b[36mget_weather\u001b[39m\u001b[34m(city)\u001b[39m\n\u001b[32m     17\u001b[39m response = requests.get(url)\n\u001b[32m     19\u001b[39m \u001b[38;5;28;01mif\u001b[39;00m response.status_code != \u001b[32m200\u001b[39m:\n\u001b[32m---> \u001b[39m\u001b[32m20\u001b[39m     \u001b[38;5;28;01mraise\u001b[39;00m \u001b[38;5;167;01mValueError\u001b[39;00m(\u001b[33mf\u001b[39m\u001b[33m\"\u001b[39m\u001b[33mError fetching weather data: \u001b[39m\u001b[38;5;132;01m{\u001b[39;00mresponse.status_code\u001b[38;5;132;01m}\u001b[39;00m\u001b[33m\"\u001b[39m)\n\u001b[32m     22\u001b[39m data = response.json()\n\u001b[32m     23\u001b[39m condition = data[\u001b[33m'\u001b[39m\u001b[33mcurrent\u001b[39m\u001b[33m'\u001b[39m][\u001b[33m'\u001b[39m\u001b[33mcondition\u001b[39m\u001b[33m'\u001b[39m][\u001b[33m'\u001b[39m\u001b[33mtext\u001b[39m\u001b[33m'\u001b[39m]\n",
      "\u001b[31mValueError\u001b[39m: Error fetching weather data: 401"
     ]
    }
   ],
   "source": [
    "get_weather(\"islamabad\")"
   ]
  },
  {
   "cell_type": "code",
   "execution_count": 4,
   "id": "a4e051e7",
   "metadata": {},
   "outputs": [],
   "source": [
    "from langchain_community.tools import DuckDuckGoSearchRun\n",
    "from langchain_community.utilities import DuckDuckGoSearchAPIWrapper\n",
    "\n",
    "# Set up DuckDuckGo search for news\n",
    "search_tool = DuckDuckGoSearchRun(\n",
    "    api_wrapper=DuckDuckGoSearchAPIWrapper(source=\"news\")\n",
    ")\n"
   ]
  },
  {
   "cell_type": "code",
   "execution_count": 5,
   "id": "6ff83954",
   "metadata": {},
   "outputs": [
    {
     "data": {
      "text/plain": [
       "'The H-1B visa applicants can now very easily check their case status online. This can be done through by visiting the official website of United States Citizenship and Immigration Services (USCIS). \"Every immigration case entrusted to us represents an individual ... including the applications for EADs (Form I-765), adjustment of status (Form I-485), and naturalization (Form N-400).\" USCIS also has vowed to improve asylum filing and adjudication ... Several EB-1A applicants allegedly manipulated the system by publishing in low-quality journals, generating fake citations through coordinated co-authorship, and promoting dubious awards such as the Stevie and Globee to bolster their profiles. An immigrant from the country of Georgia who has SIJ status and has been waiting ... the average time USCIS has taken to approve a case is 263 days, which, although an improvement, is still ... The majority were between the ages of 19 and 22 when they were arrested, according to the latest available data published by U.S. Citizenship and Immigration Services (USCIS). President Joe Biden ...'"
      ]
     },
     "execution_count": 5,
     "metadata": {},
     "output_type": "execute_result"
    }
   ],
   "source": [
    "search_tool.invoke(\"uscis case status\")  # Example usage of the search tool"
   ]
  },
  {
   "cell_type": "code",
   "execution_count": 6,
   "id": "8f21e9b6",
   "metadata": {},
   "outputs": [
    {
     "data": {
      "text/plain": [
       "'Hi there! How can I help you today?'"
      ]
     },
     "execution_count": 6,
     "metadata": {},
     "output_type": "execute_result"
    }
   ],
   "source": [
    "llm.invoke('hi').content"
   ]
  },
  {
   "cell_type": "code",
   "execution_count": 7,
   "id": "4f878dc9",
   "metadata": {},
   "outputs": [],
   "source": [
    "# for agent we need create agent and agent executor from langchain and for prompt we need ReAct prompt from langchain.hub\n",
    "from langchain.agents import create_react_agent, AgentExecutor\n",
    "from langchain import hub"
   ]
  },
  {
   "cell_type": "code",
   "execution_count": 8,
   "id": "84d0e163",
   "metadata": {},
   "outputs": [
    {
     "name": "stderr",
     "output_type": "stream",
     "text": [
      "/home/hydra/Desktop/genAi/lib/python3.12/site-packages/langsmith/client.py:271: LangSmithMissingAPIKeyWarning: API key must be provided when using hosted LangSmith API\n",
      "  warnings.warn(\n"
     ]
    }
   ],
   "source": [
    "# stp2 pull the ReAct prompt from langchain hub\n",
    "react_prompt = hub.pull(\"hwchase17/react\")"
   ]
  },
  {
   "cell_type": "code",
   "execution_count": 9,
   "id": "22fa0fd2",
   "metadata": {},
   "outputs": [
    {
     "data": {
      "text/plain": [
       "PromptTemplate(input_variables=['agent_scratchpad', 'input', 'tool_names', 'tools'], input_types={}, partial_variables={}, metadata={'lc_hub_owner': 'hwchase17', 'lc_hub_repo': 'react', 'lc_hub_commit_hash': 'd15fe3c426f1c4b3f37c9198853e4a86e20c425ca7f4752ec0c9b0e97ca7ea4d'}, template='Answer the following questions as best you can. You have access to the following tools:\\n\\n{tools}\\n\\nUse the following format:\\n\\nQuestion: the input question you must answer\\nThought: you should always think about what to do\\nAction: the action to take, should be one of [{tool_names}]\\nAction Input: the input to the action\\nObservation: the result of the action\\n... (this Thought/Action/Action Input/Observation can repeat N times)\\nThought: I now know the final answer\\nFinal Answer: the final answer to the original input question\\n\\nBegin!\\n\\nQuestion: {input}\\nThought:{agent_scratchpad}')"
      ]
     },
     "execution_count": 9,
     "metadata": {},
     "output_type": "execute_result"
    }
   ],
   "source": [
    "react_prompt"
   ]
  },
  {
   "cell_type": "code",
   "execution_count": 10,
   "id": "a4a1ca14",
   "metadata": {},
   "outputs": [],
   "source": [
    "#  stp 3 create the agent\n",
    "agent = create_react_agent(\n",
    "    llm=llm,\n",
    "    prompt=react_prompt,\n",
    "    tools=[search_tool],\n",
    ")\n"
   ]
  },
  {
   "cell_type": "code",
   "execution_count": 19,
   "id": "dadc4ee8",
   "metadata": {},
   "outputs": [],
   "source": [
    "# stp 4 create the agent executor\n",
    "agent_executor = AgentExecutor(\n",
    "    agent=agent,\n",
    "    tools=[search_tool],\n",
    "    verbose=True,\n",
    ")"
   ]
  },
  {
   "cell_type": "code",
   "execution_count": 30,
   "id": "db019968",
   "metadata": {},
   "outputs": [
    {
     "name": "stdout",
     "output_type": "stream",
     "text": [
      "\n",
      "\n",
      "\u001b[1m> Entering new AgentExecutor chain...\u001b[0m\n",
      "\u001b[32;1m\u001b[1;3mI need to find the latest news about Iran and Israel. I will use duckduckgo_search to find recent articles.\n",
      "Action: duckduckgo_search\n",
      "Action Input: \"iran israel news\"\u001b[0m\u001b[36;1m\u001b[1;3mWASHINGTON − President Donald Trump denied reports he had reached out to Tehran seeking an end to the five-day Iran-Israel air war, after earlier suggesting he was working toward a broad Iran nuclear deal. Israel stunned Iran last week with an intelligence and military operation years in the making that struck high-level targets with precision. President Donald Trump said overnight Tuesday he's seeking \"a real end\" to the conflict between Israel and Iran, arguing that outcome would be preferable to a ceasefire while also suggesting his patience for negotiations was wearing thin. Israel said Tuesday that they killed Iran's wartime chief of staff Maj. Gen. Ali Shamdani, a close ally of Iranian Supreme Leader Ayatollah Ali Khamenei. Aerial attacks between Israel and Iran continued overnight into Tuesday, marking a fifth day of strikes following Israel's Friday attack. That surprise operation hit at the heart of Iran's nuclear program, striking key facilities and killing several nuclear scientists as well as high-ranking military leaders, according to Israeli officials.\u001b[0m\u001b[32;1m\u001b[1;3mThe latest news indicates a recent escalation of conflict between Iran and Israel, including aerial attacks and intelligence operations. There are reports of strikes on key Iranian facilities, the killing of Iranian military leaders, and ongoing discussions about potential negotiations and a broader nuclear deal.\n",
      "Final Answer: Recent news indicates an escalation of conflict between Iran and Israel, involving aerial attacks, intelligence operations, and reports of strikes on key facilities and the killing of Iranian military leaders. Discussions about negotiations and a potential nuclear deal are also ongoing.\u001b[0m\n",
      "\n",
      "\u001b[1m> Finished chain.\u001b[0m\n"
     ]
    }
   ],
   "source": [
    "report = agent_executor.invoke({\"input\": HumanMessage(\"what is the latest news about iran and israel\")})\n"
   ]
  },
  {
   "cell_type": "code",
   "execution_count": 31,
   "id": "3ed6603d",
   "metadata": {},
   "outputs": [
    {
     "data": {
      "text/plain": [
       "{'input': HumanMessage(content='what is the latest news about iran and israel', additional_kwargs={}, response_metadata={}),\n",
       " 'output': 'Recent news indicates an escalation of conflict between Iran and Israel, involving aerial attacks, intelligence operations, and reports of strikes on key facilities and the killing of Iranian military leaders. Discussions about negotiations and a potential nuclear deal are also ongoing.'}"
      ]
     },
     "execution_count": 31,
     "metadata": {},
     "output_type": "execute_result"
    }
   ],
   "source": [
    "report"
   ]
  },
  {
   "cell_type": "code",
   "execution_count": null,
   "id": "d9ff085a",
   "metadata": {},
   "outputs": [],
   "source": []
  }
 ],
 "metadata": {
  "kernelspec": {
   "display_name": "genAi",
   "language": "python",
   "name": "python3"
  },
  "language_info": {
   "codemirror_mode": {
    "name": "ipython",
    "version": 3
   },
   "file_extension": ".py",
   "mimetype": "text/x-python",
   "name": "python",
   "nbconvert_exporter": "python",
   "pygments_lexer": "ipython3",
   "version": "3.12.3"
  }
 },
 "nbformat": 4,
 "nbformat_minor": 5
}
