{
 "cells": [
  {
   "cell_type": "code",
   "execution_count": 1,
   "id": "8612bd8b",
   "metadata": {},
   "outputs": [
    {
     "name": "stderr",
     "output_type": "stream",
     "text": [
      "/home/hydra/Desktop/genAi/lib/python3.12/site-packages/tqdm/auto.py:21: TqdmWarning: IProgress not found. Please update jupyter and ipywidgets. See https://ipywidgets.readthedocs.io/en/stable/user_install.html\n",
      "  from .autonotebook import tqdm as notebook_tqdm\n"
     ]
    }
   ],
   "source": [
    "import os\n",
    "from dotenv import load_dotenv\n",
    "from langchain_google_genai import ChatGoogleGenerativeAI\n",
    "from langchain_core.tools import tool\n",
    "from langchain_core.messages import HumanMessage\n",
    "import requests"
   ]
  },
  {
   "cell_type": "code",
   "execution_count": 2,
   "id": "36d9b1a3",
   "metadata": {},
   "outputs": [],
   "source": [
    "load_dotenv()\n",
    "google_api_key = os.getenv(\"GOOGLE_API_KEY\")"
   ]
  },
  {
   "cell_type": "code",
   "execution_count": 3,
   "id": "d8c113d2",
   "metadata": {},
   "outputs": [],
   "source": [
    "llm = ChatGoogleGenerativeAI(\n",
    "    model= \"gemini-2.0-flash\",\n",
    "    temperature=1.0,\n",
    "    max_retries=2,\n",
    "    google_api_key=google_api_key,\n",
    ")"
   ]
  },
  {
   "cell_type": "code",
   "execution_count": 31,
   "id": "e2a1470e",
   "metadata": {},
   "outputs": [],
   "source": [
    "# @tool\n",
    "def get_weather_data(city: str) -> str:\n",
    "  \"\"\"\n",
    "  This function fetches the current weather data for a given city\n",
    "  \"\"\"\n",
    "  url = f'https://api.weatherstack.com/current?access_key=07b88a4b41c119c16b6775f49dbd6e52={city}'\n",
    "\n",
    "  response = requests.get(url)\n",
    "\n",
    "  return response.json()"
   ]
  },
  {
   "cell_type": "code",
   "execution_count": 32,
   "id": "8e19daea",
   "metadata": {},
   "outputs": [
    {
     "data": {
      "text/plain": [
       "{'success': False,\n",
       " 'error': {'code': 101,\n",
       "  'type': 'invalid_access_key',\n",
       "  'info': 'You have not supplied a valid API Access Key. [Technical Support: support@apilayer.com]'}}"
      ]
     },
     "execution_count": 32,
     "metadata": {},
     "output_type": "execute_result"
    }
   ],
   "source": [
    "get_weather_data('attock')"
   ]
  },
  {
   "cell_type": "code",
   "execution_count": 4,
   "id": "a4e051e7",
   "metadata": {},
   "outputs": [],
   "source": [
    "from langchain_community.tools import DuckDuckGoSearchRun\n",
    "from langchain_community.utilities import DuckDuckGoSearchAPIWrapper\n",
    "\n",
    "# Set up DuckDuckGo search for news\n",
    "search_tool = DuckDuckGoSearchRun(\n",
    "    api_wrapper=DuckDuckGoSearchAPIWrapper(source=\"news\")\n",
    ")\n"
   ]
  },
  {
   "cell_type": "code",
   "execution_count": 5,
   "id": "6ff83954",
   "metadata": {},
   "outputs": [
    {
     "data": {
      "text/plain": [
       "'The H-1B visa applicants can now very easily check their case status online. This can be done through by visiting the official website of United States Citizenship and Immigration Services (USCIS). \"Every immigration case entrusted to us represents an individual ... including the applications for EADs (Form I-765), adjustment of status (Form I-485), and naturalization (Form N-400).\" USCIS also has vowed to improve asylum filing and adjudication ... Several EB-1A applicants allegedly manipulated the system by publishing in low-quality journals, generating fake citations through coordinated co-authorship, and promoting dubious awards such as the Stevie and Globee to bolster their profiles. An immigrant from the country of Georgia who has SIJ status and has been waiting ... the average time USCIS has taken to approve a case is 263 days, which, although an improvement, is still ... The majority were between the ages of 19 and 22 when they were arrested, according to the latest available data published by U.S. Citizenship and Immigration Services (USCIS). President Joe Biden ...'"
      ]
     },
     "execution_count": 5,
     "metadata": {},
     "output_type": "execute_result"
    }
   ],
   "source": [
    "search_tool.invoke(\"uscis case status\")  # Example usage of the search tool"
   ]
  },
  {
   "cell_type": "code",
   "execution_count": 6,
   "id": "8f21e9b6",
   "metadata": {},
   "outputs": [
    {
     "data": {
      "text/plain": [
       "'Hi there! How can I help you today?'"
      ]
     },
     "execution_count": 6,
     "metadata": {},
     "output_type": "execute_result"
    }
   ],
   "source": [
    "llm.invoke('hi').content"
   ]
  },
  {
   "cell_type": "code",
   "execution_count": 7,
   "id": "4f878dc9",
   "metadata": {},
   "outputs": [],
   "source": [
    "# for agent we need create agent and agent executor from langchain and for prompt we need ReAct prompt from langchain.hub\n",
    "from langchain.agents import create_react_agent, AgentExecutor\n",
    "from langchain import hub"
   ]
  },
  {
   "cell_type": "code",
   "execution_count": 8,
   "id": "84d0e163",
   "metadata": {},
   "outputs": [
    {
     "name": "stderr",
     "output_type": "stream",
     "text": [
      "/home/hydra/Desktop/genAi/lib/python3.12/site-packages/langsmith/client.py:271: LangSmithMissingAPIKeyWarning: API key must be provided when using hosted LangSmith API\n",
      "  warnings.warn(\n"
     ]
    }
   ],
   "source": [
    "# stp2 pull the ReAct prompt from langchain hub\n",
    "react_prompt = hub.pull(\"hwchase17/react\")"
   ]
  },
  {
   "cell_type": "code",
   "execution_count": 9,
   "id": "22fa0fd2",
   "metadata": {},
   "outputs": [
    {
     "data": {
      "text/plain": [
       "PromptTemplate(input_variables=['agent_scratchpad', 'input', 'tool_names', 'tools'], input_types={}, partial_variables={}, metadata={'lc_hub_owner': 'hwchase17', 'lc_hub_repo': 'react', 'lc_hub_commit_hash': 'd15fe3c426f1c4b3f37c9198853e4a86e20c425ca7f4752ec0c9b0e97ca7ea4d'}, template='Answer the following questions as best you can. You have access to the following tools:\\n\\n{tools}\\n\\nUse the following format:\\n\\nQuestion: the input question you must answer\\nThought: you should always think about what to do\\nAction: the action to take, should be one of [{tool_names}]\\nAction Input: the input to the action\\nObservation: the result of the action\\n... (this Thought/Action/Action Input/Observation can repeat N times)\\nThought: I now know the final answer\\nFinal Answer: the final answer to the original input question\\n\\nBegin!\\n\\nQuestion: {input}\\nThought:{agent_scratchpad}')"
      ]
     },
     "execution_count": 9,
     "metadata": {},
     "output_type": "execute_result"
    }
   ],
   "source": [
    "react_prompt"
   ]
  },
  {
   "cell_type": "code",
   "execution_count": 10,
   "id": "a4a1ca14",
   "metadata": {},
   "outputs": [],
   "source": [
    "#  stp 3 create the agent\n",
    "agent = create_react_agent(\n",
    "    llm=llm,\n",
    "    prompt=react_prompt,\n",
    "    tools=[search_tool],\n",
    ")\n"
   ]
  },
  {
   "cell_type": "code",
   "execution_count": 19,
   "id": "dadc4ee8",
   "metadata": {},
   "outputs": [],
   "source": [
    "# stp 4 create the agent executor\n",
    "agent_executor = AgentExecutor(\n",
    "    agent=agent,\n",
    "    tools=[search_tool],\n",
    "    verbose=True,\n",
    ")"
   ]
  },
  {
   "cell_type": "code",
   "execution_count": 30,
   "id": "db019968",
   "metadata": {},
   "outputs": [
    {
     "name": "stdout",
     "output_type": "stream",
     "text": [
      "\n",
      "\n",
      "\u001b[1m> Entering new AgentExecutor chain...\u001b[0m\n",
      "\u001b[32;1m\u001b[1;3mI need to find the latest news about Iran and Israel. I will use duckduckgo_search to find recent articles.\n",
      "Action: duckduckgo_search\n",
      "Action Input: \"iran israel news\"\u001b[0m\u001b[36;1m\u001b[1;3mWASHINGTON − President Donald Trump denied reports he had reached out to Tehran seeking an end to the five-day Iran-Israel air war, after earlier suggesting he was working toward a broad Iran nuclear deal. Israel stunned Iran last week with an intelligence and military operation years in the making that struck high-level targets with precision. President Donald Trump said overnight Tuesday he's seeking \"a real end\" to the conflict between Israel and Iran, arguing that outcome would be preferable to a ceasefire while also suggesting his patience for negotiations was wearing thin. Israel said Tuesday that they killed Iran's wartime chief of staff Maj. Gen. Ali Shamdani, a close ally of Iranian Supreme Leader Ayatollah Ali Khamenei. Aerial attacks between Israel and Iran continued overnight into Tuesday, marking a fifth day of strikes following Israel's Friday attack. That surprise operation hit at the heart of Iran's nuclear program, striking key facilities and killing several nuclear scientists as well as high-ranking military leaders, according to Israeli officials.\u001b[0m\u001b[32;1m\u001b[1;3mThe latest news indicates a recent escalation of conflict between Iran and Israel, including aerial attacks and intelligence operations. There are reports of strikes on key Iranian facilities, the killing of Iranian military leaders, and ongoing discussions about potential negotiations and a broader nuclear deal.\n",
      "Final Answer: Recent news indicates an escalation of conflict between Iran and Israel, involving aerial attacks, intelligence operations, and reports of strikes on key facilities and the killing of Iranian military leaders. Discussions about negotiations and a potential nuclear deal are also ongoing.\u001b[0m\n",
      "\n",
      "\u001b[1m> Finished chain.\u001b[0m\n"
     ]
    }
   ],
   "source": [
    "report = agent_executor.invoke({\"input\": HumanMessage(\"what is the latest news about iran and israel\")})\n"
   ]
  },
  {
   "cell_type": "code",
   "execution_count": 31,
   "id": "3ed6603d",
   "metadata": {},
   "outputs": [
    {
     "data": {
      "text/plain": [
       "{'input': HumanMessage(content='what is the latest news about iran and israel', additional_kwargs={}, response_metadata={}),\n",
       " 'output': 'Recent news indicates an escalation of conflict between Iran and Israel, involving aerial attacks, intelligence operations, and reports of strikes on key facilities and the killing of Iranian military leaders. Discussions about negotiations and a potential nuclear deal are also ongoing.'}"
      ]
     },
     "execution_count": 31,
     "metadata": {},
     "output_type": "execute_result"
    }
   ],
   "source": [
    "report"
   ]
  },
  {
   "cell_type": "code",
   "execution_count": null,
   "id": "d9ff085a",
   "metadata": {},
   "outputs": [],
   "source": []
  }
 ],
 "metadata": {
  "kernelspec": {
   "display_name": "genAi",
   "language": "python",
   "name": "python3"
  },
  "language_info": {
   "codemirror_mode": {
    "name": "ipython",
    "version": 3
   },
   "file_extension": ".py",
   "mimetype": "text/x-python",
   "name": "python",
   "nbconvert_exporter": "python",
   "pygments_lexer": "ipython3",
   "version": "3.12.3"
  }
 },
 "nbformat": 4,
 "nbformat_minor": 5
}
