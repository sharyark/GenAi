{
 "cells": [
  {
   "cell_type": "code",
   "execution_count": 2,
   "id": "3d96db12",
   "metadata": {},
   "outputs": [],
   "source": [
    "from langgraph.graph import StateGraph,START, END\n",
    "from typing import TypedDict"
   ]
  },
  {
   "cell_type": "code",
   "execution_count": 19,
   "id": "f6e6dfa2",
   "metadata": {},
   "outputs": [],
   "source": [
    "# state graph definition\n",
    "class BmiInput(TypedDict):\n",
    "    height: float  # in meters\n",
    "    weight: float  # in kilograms\n",
    "    bmi: float  # Body Mass Index\n",
    "    category : str  # temporary field for intermediate calculations"
   ]
  },
  {
   "cell_type": "code",
   "execution_count": 26,
   "id": "130741b2",
   "metadata": {},
   "outputs": [],
   "source": [
    "# function to calculate BMI\n",
    "def calBmi(input: BmiInput) -> BmiInput:\n",
    "    \"\"\"\n",
    "    Calculate the Body Mass Index (BMI) based on height and weight.\n",
    "    \"\"\"\n",
    "    height = input['height']\n",
    "    weight = input['weight']\n",
    "    \n",
    "    if height <= 0:\n",
    "        raise ValueError(\"Height must be greater than zero.\")\n",
    "    \n",
    "    bmi = weight / (height ** 2)\n",
    "    input['bmi'] = bmi\n",
    "    return input\n",
    "\n",
    "def cal_category(input: BmiInput) -> BmiInput:\n",
    "    bmi = input['bmi']\n",
    "    print(\"-----\", bmi)\n",
    "     # Determine BMI category\n",
    "    if bmi < 18.5:\n",
    "        category = \"Underweight\"\n",
    "    elif 18.5 <= bmi < 24.9:\n",
    "        category = \"Normal weight\"\n",
    "    elif 25 <= bmi < 29.9:\n",
    "        category = \"Overweight\"\n",
    "    else:\n",
    "        category = \"Obesity\"\n",
    "    \n",
    "    input['category'] = category\n",
    "    return input\n",
    "    "
   ]
  },
  {
   "cell_type": "code",
   "execution_count": 27,
   "id": "b3117e74",
   "metadata": {},
   "outputs": [],
   "source": [
    "# define the state graph\n",
    "graph = StateGraph(BmiInput)\n",
    "# add nodes \n",
    "graph.add_node('calculate_bmi', calBmi)\n",
    "graph.add_node('determine_category', cal_category)\n",
    "# add edges\n",
    "graph.add_edge(START, 'calculate_bmi')\n",
    "graph.add_edge('calculate_bmi', 'determine_category')\n",
    "graph.add_edge('determine_category', END)\n",
    "# compile the graph into a workflow\n",
    "workflow = graph.compile()"
   ]
  },
  {
   "cell_type": "code",
   "execution_count": 28,
   "id": "35f8e6db",
   "metadata": {},
   "outputs": [
    {
     "name": "stdout",
     "output_type": "stream",
     "text": [
      "----- 32.6530612244898\n"
     ]
    },
    {
     "data": {
      "text/plain": [
       "{'height': 1.75,\n",
       " 'weight': 100.0,\n",
       " 'bmi': 32.6530612244898,\n",
       " 'category': 'Obesity'}"
      ]
     },
     "execution_count": 28,
     "metadata": {},
     "output_type": "execute_result"
    }
   ],
   "source": [
    "# this take state and also return state\n",
    "workflow.invoke({\n",
    "    'height': 1.75,  # Example height in meters\n",
    "    'weight': 100.0   # Example weight in kilograms\n",
    "})"
   ]
  },
  {
   "cell_type": "code",
   "execution_count": 11,
   "id": "60292a24",
   "metadata": {},
   "outputs": [
    {
     "data": {
      "image/png": "[encoded data removed]",
      "text/plain": [
       "<langgraph.graph.state.CompiledStateGraph object at 0x7e32a24fa3c0>"
      ]
     },
     "execution_count": 11,
     "metadata": {},
     "output_type": "execute_result"
    }
   ],
   "source": [
    "workflow"
   ]
  },
  {
   "cell_type": "code",
   "execution_count": null,
   "id": "a956da78",
   "metadata": {},
   "outputs": [],
   "source": []
  }
 ],
 "metadata": {
  "kernelspec": {
   "display_name": "genAi",
   "language": "python",
   "name": "python3"
  },
  "language_info": {
   "codemirror_mode": {
    "name": "ipython",
    "version": 3
   },
   "file_extension": ".py",
   "mimetype": "text/x-python",
   "name": "python",
   "nbconvert_exporter": "python",
   "pygments_lexer": "ipython3",
   "version": "3.12.3"
  }
 },
 "nbformat": 4,
 "nbformat_minor": 5
}
