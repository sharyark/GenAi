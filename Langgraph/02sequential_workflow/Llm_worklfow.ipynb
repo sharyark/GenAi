{
 "cells": [
  {
   "cell_type": "code",
   "execution_count": 21,
   "id": "d53189f3",
   "metadata": {},
   "outputs": [],
   "source": [
    "from langgraph.graph import StateGraph,START, END\n",
    "from typing import TypedDict\n",
    "from langchain_groq import ChatGroq\n",
    "from dotenv import load_dotenv\n",
    "import os\n"
   ]
  },
  {
   "cell_type": "code",
   "execution_count": 6,
   "id": "fee0c97c",
   "metadata": {},
   "outputs": [],
   "source": [
    "# state graph definition\n",
    "class Llm(TypedDict):\n",
    "    Question : str\n",
    "    Answere : str"
   ]
  },
  {
   "cell_type": "code",
   "execution_count": 22,
   "id": "bdee7380",
   "metadata": {},
   "outputs": [],
   "source": [
    "def chat(input : Llm) -> Llm:\n",
    "    question = input[\"Question\"]\n",
    "\n",
    "    # Load the .env file\n",
    "    load_dotenv()\n",
    "    \n",
    "    # Fetch the API key from environment\n",
    "    groq_api_key = os.getenv(\"GROQ_API\")\n",
    "    \n",
    "    # print(\"GROQ API Key:\", groq_api_key)\n",
    "    \n",
    "    llm = ChatGroq(\n",
    "        api_key=groq_api_key,\n",
    "        model=\"deepseek-r1-distill-llama-70b\",\n",
    "        temperature=0,\n",
    "        max_tokens=None,\n",
    "        reasoning_format=\"parsed\",\n",
    "        timeout=None,\n",
    "        max_retries=2,\n",
    "        # other params...\n",
    "    )\n",
    "    ans = llm.invoke(question)\n",
    "    input[\"Answere\"] = ans.content\n",
    "    return input"
   ]
  },
  {
   "cell_type": "code",
   "execution_count": 23,
   "id": "db4e2b37",
   "metadata": {},
   "outputs": [],
   "source": [
    "graph = StateGraph(Llm)\n",
    "# add nodes \n",
    "graph.add_node('conversation_to_llm', chat)\n",
    "# add edges\n",
    "graph.add_edge(START,'conversation_to_llm')\n",
    "graph.add_edge('conversation_to_llm',END)\n",
    "# compiling the graph\n",
    "workflow = graph.compile()"
   ]
  },
  {
   "cell_type": "code",
   "execution_count": 24,
   "id": "9c51f7fc",
   "metadata": {},
   "outputs": [
    {
     "data": {
      "text/plain": [
       "{'Question': 'hello my name is sahryar',\n",
       " 'Answere': 'Hello Sahryar! How can I assist you today? 😊'}"
      ]
     },
     "execution_count": 24,
     "metadata": {},
     "output_type": "execute_result"
    }
   ],
   "source": [
    "workflow.invoke({'Question':\"hello my name is sahryar\",\n",
    "                 'Answere':'----'})"
   ]
  },
  {
   "cell_type": "code",
   "execution_count": null,
   "id": "b8d4ed87",
   "metadata": {},
   "outputs": [],
   "source": []
  }
 ],
 "metadata": {
  "kernelspec": {
   "display_name": "genAi",
   "language": "python",
   "name": "python3"
  },
  "language_info": {
   "codemirror_mode": {
    "name": "ipython",
    "version": 3
   },
   "file_extension": ".py",
   "mimetype": "text/x-python",
   "name": "python",
   "nbconvert_exporter": "python",
   "pygments_lexer": "ipython3",
   "version": "3.12.3"
  }
 },
 "nbformat": 4,
 "nbformat_minor": 5
}
