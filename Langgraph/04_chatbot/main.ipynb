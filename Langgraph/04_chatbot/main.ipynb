{
 "cells": [
  {
   "cell_type": "code",
   "execution_count": 40,
   "id": "cc4f5464",
   "metadata": {},
   "outputs": [],
   "source": [
    "from langchain_groq import ChatGroq\n",
    "from dotenv import load_dotenv\n",
    "import os\n",
    "\n",
    "load_dotenv()\n",
    "groq_api_key = os.getenv(\"GROQ_API\")\n",
    "\n",
    "llm = ChatGroq(\n",
    "    api_key=groq_api_key,\n",
    "    model=\"deepseek-r1-distill-llama-70b\",\n",
    "    temperature=0,\n",
    "    max_tokens=None,\n",
    "    reasoning_format=\"parsed\",\n",
    "    timeout=None,\n",
    "    max_retries=2,\n",
    ")"
   ]
  },
  {
   "cell_type": "code",
   "execution_count": 42,
   "id": "04b6712e",
   "metadata": {},
   "outputs": [],
   "source": [
    "from langgraph.graph import StateGraph, START, END\n",
    "from typing import TypedDict, Annotated\n",
    "from langchain_core.messages import BaseMessage, HumanMessage, AIMessage\n",
    "from langgraph.graph.message import add_messages"
   ]
  },
  {
   "cell_type": "code",
   "execution_count": 47,
   "id": "0f7b476b",
   "metadata": {},
   "outputs": [],
   "source": [
    "class ChatState(TypedDict):\n",
    "    messages: Annotated[list[BaseMessage], add_messages]\n",
    "\n",
    "def chat_node(state: ChatState):\n",
    "    # now state should have 'messages'\n",
    "    messages = state.get('messages', [])  # safer\n",
    "    response = llm.invoke(messages)\n",
    "    # accumulate history\n",
    "    print(messages)\n",
    "    return {'messages': messages + [response]}\n"
   ]
  },
  {
   "cell_type": "code",
   "execution_count": 48,
   "id": "2867f24d",
   "metadata": {},
   "outputs": [],
   "source": [
    "graph = StateGraph(ChatState)\n",
    "graph.add_node('chat_node', chat_node)\n",
    "graph.add_edge(START, 'chat_node')\n",
    "graph.add_edge('chat_node', END)\n",
    "\n",
    "chatbot = graph.compile()"
   ]
  },
  {
   "cell_type": "code",
   "execution_count": 49,
   "id": "fd629f4c",
   "metadata": {},
   "outputs": [
    {
     "name": "stdout",
     "output_type": "stream",
     "text": [
      "[HumanMessage(content='What is the capital of India', additional_kwargs={}, response_metadata={}, id='40aa066a-cec5-42d9-970b-1a3e4d250cd6')]\n",
      "The capital of India is New Delhi. It is a part of the larger city of Delhi and serves as the administrative and governmental center, housing the central government institutions. New Delhi was established by the British as the capital and has remained so since India's independence.\n"
     ]
    }
   ],
   "source": [
    "initial_state = {\n",
    "    'messages': [HumanMessage(content='What is the capital of India')]\n",
    "}\n",
    "\n",
    "result = chatbot.invoke(initial_state)\n",
    "print(result['messages'][-1].content)\n"
   ]
  },
  {
   "cell_type": "code",
   "execution_count": 50,
   "id": "bc1290da",
   "metadata": {},
   "outputs": [
    {
     "name": "stdout",
     "output_type": "stream",
     "text": [
      "[HumanMessage(content='What is the capital of India', additional_kwargs={}, response_metadata={}, id='40aa066a-cec5-42d9-970b-1a3e4d250cd6'), AIMessage(content=\"The capital of India is New Delhi. It is a part of the larger city of Delhi and serves as the administrative and governmental center, housing the central government institutions. New Delhi was established by the British as the capital and has remained so since India's independence.\", additional_kwargs={'reasoning_content': 'Okay, so I need to figure out what the capital of India is. Hmm, I\\'m not entirely sure, but I think it\\'s a city that starts with an \\'N\\'. Maybe New Delhi? I\\'ve heard that name before in the context of India. But wait, is New Delhi the capital, or is it just a part of the capital? I remember learning that sometimes countries have a federal district as their capital, like Washington D.C. in the United States. So perhaps New Delhi is part of a larger area that serves as the capital.\\n\\nLet me think about other cities in India. There\\'s Mumbai, which is a big city, but I don\\'t think that\\'s the capital. Then there\\'s Bangalore and Kolkata, but those are more known for other reasons. Delhi itself is a major city, and I think the government is centered there. So maybe the capital is officially Delhi, with New Delhi being the specific area where the government buildings are located.\\n\\nI should also consider the structure of India\\'s government. India is a republic, so it likely has a specific city designated as the capital where the parliament and other central government institutions are located. I\\'ve heard terms like \"Union Territory\" in relation to Delhi, which might mean it\\'s a special area governed directly by the federal government, similar to how Washington D.C. is a federal district in the U.S.\\n\\nWait, so is the capital New Delhi or Delhi? I think New Delhi is the part of Delhi that was built by the British as the capital, and it\\'s where the central government is. So the official capital is New Delhi, which is within the larger city of Delhi. That makes sense because sometimes cities have specific districts that serve as the administrative center.\\n\\nI should also recall any recent information or changes. I don\\'t think the capital has moved recently, so it\\'s been New Delhi for a long time. Maybe since India gained independence, New Delhi has been the capital. Before that, during the British Raj, Calcutta was the capital, but that changed after independence.\\n\\nSo putting it all together, I think the capital of India is New Delhi. It\\'s a part of the larger city of Delhi and serves as the administrative and governmental center. The confusion might come from whether it\\'s referred to as Delhi or New Delhi, but I believe the official capital is New Delhi.\\n'}, response_metadata={'token_usage': {'completion_tokens': 533, 'prompt_tokens': 9, 'total_tokens': 542, 'completion_time': 2.339122717, 'prompt_time': 0.009844605, 'queue_time': 0.051844815, 'total_time': 2.348967322}, 'model_name': 'deepseek-r1-distill-llama-70b', 'system_fingerprint': 'fp_1bbe7845ec', 'service_tier': 'on_demand', 'finish_reason': 'stop', 'logprobs': None}, id='run--213cfa13-3cc4-42ac-bd51-589b8c5b2397-0', usage_metadata={'input_tokens': 9, 'output_tokens': 533, 'total_tokens': 542}), HumanMessage(content='hi there', additional_kwargs={}, response_metadata={}, id='7c078139-9b21-42f5-8fd0-fab70359b789')]\n",
      "Bot: Hello! How can I assist you today?\n",
      "[HumanMessage(content='What is the capital of India', additional_kwargs={}, response_metadata={}, id='40aa066a-cec5-42d9-970b-1a3e4d250cd6'), AIMessage(content=\"The capital of India is New Delhi. It is a part of the larger city of Delhi and serves as the administrative and governmental center, housing the central government institutions. New Delhi was established by the British as the capital and has remained so since India's independence.\", additional_kwargs={'reasoning_content': 'Okay, so I need to figure out what the capital of India is. Hmm, I\\'m not entirely sure, but I think it\\'s a city that starts with an \\'N\\'. Maybe New Delhi? I\\'ve heard that name before in the context of India. But wait, is New Delhi the capital, or is it just a part of the capital? I remember learning that sometimes countries have a federal district as their capital, like Washington D.C. in the United States. So perhaps New Delhi is part of a larger area that serves as the capital.\\n\\nLet me think about other cities in India. There\\'s Mumbai, which is a big city, but I don\\'t think that\\'s the capital. Then there\\'s Bangalore and Kolkata, but those are more known for other reasons. Delhi itself is a major city, and I think the government is centered there. So maybe the capital is officially Delhi, with New Delhi being the specific area where the government buildings are located.\\n\\nI should also consider the structure of India\\'s government. India is a republic, so it likely has a specific city designated as the capital where the parliament and other central government institutions are located. I\\'ve heard terms like \"Union Territory\" in relation to Delhi, which might mean it\\'s a special area governed directly by the federal government, similar to how Washington D.C. is a federal district in the U.S.\\n\\nWait, so is the capital New Delhi or Delhi? I think New Delhi is the part of Delhi that was built by the British as the capital, and it\\'s where the central government is. So the official capital is New Delhi, which is within the larger city of Delhi. That makes sense because sometimes cities have specific districts that serve as the administrative center.\\n\\nI should also recall any recent information or changes. I don\\'t think the capital has moved recently, so it\\'s been New Delhi for a long time. Maybe since India gained independence, New Delhi has been the capital. Before that, during the British Raj, Calcutta was the capital, but that changed after independence.\\n\\nSo putting it all together, I think the capital of India is New Delhi. It\\'s a part of the larger city of Delhi and serves as the administrative and governmental center. The confusion might come from whether it\\'s referred to as Delhi or New Delhi, but I believe the official capital is New Delhi.\\n'}, response_metadata={'token_usage': {'completion_tokens': 533, 'prompt_tokens': 9, 'total_tokens': 542, 'completion_time': 2.339122717, 'prompt_time': 0.009844605, 'queue_time': 0.051844815, 'total_time': 2.348967322}, 'model_name': 'deepseek-r1-distill-llama-70b', 'system_fingerprint': 'fp_1bbe7845ec', 'service_tier': 'on_demand', 'finish_reason': 'stop', 'logprobs': None}, id='run--213cfa13-3cc4-42ac-bd51-589b8c5b2397-0', usage_metadata={'input_tokens': 9, 'output_tokens': 533, 'total_tokens': 542}), HumanMessage(content='hi there', additional_kwargs={}, response_metadata={}, id='7c078139-9b21-42f5-8fd0-fab70359b789'), AIMessage(content='Hello! How can I assist you today?', additional_kwargs={'reasoning_content': 'Alright, the user just said \"hi there.\" That\\'s a friendly greeting. I should respond in a warm and welcoming manner. Maybe say hello back and offer assistance. I want to make sure they feel comfortable asking for help. Let me keep it simple and open-ended so they know I\\'m here to assist with whatever they need.\\n'}, response_metadata={'token_usage': {'completion_tokens': 81, 'prompt_tokens': 66, 'total_tokens': 147, 'completion_time': 0.453930076, 'prompt_time': 0.015037129, 'queue_time': 0.049881661, 'total_time': 0.468967205}, 'model_name': 'deepseek-r1-distill-llama-70b', 'system_fingerprint': 'fp_1bbe7845ec', 'service_tier': 'on_demand', 'finish_reason': 'stop', 'logprobs': None}, id='run--d96b2f8a-1e4a-42de-9b12-ff6789305902-0', usage_metadata={'input_tokens': 66, 'output_tokens': 81, 'total_tokens': 147}), HumanMessage(content='hello', additional_kwargs={}, response_metadata={}, id='904215bb-e688-4d95-abf2-733a20ed96ec')]\n",
      "Bot: Hello! How can I assist you today?\n",
      "[HumanMessage(content='What is the capital of India', additional_kwargs={}, response_metadata={}, id='40aa066a-cec5-42d9-970b-1a3e4d250cd6'), AIMessage(content=\"The capital of India is New Delhi. It is a part of the larger city of Delhi and serves as the administrative and governmental center, housing the central government institutions. New Delhi was established by the British as the capital and has remained so since India's independence.\", additional_kwargs={'reasoning_content': 'Okay, so I need to figure out what the capital of India is. Hmm, I\\'m not entirely sure, but I think it\\'s a city that starts with an \\'N\\'. Maybe New Delhi? I\\'ve heard that name before in the context of India. But wait, is New Delhi the capital, or is it just a part of the capital? I remember learning that sometimes countries have a federal district as their capital, like Washington D.C. in the United States. So perhaps New Delhi is part of a larger area that serves as the capital.\\n\\nLet me think about other cities in India. There\\'s Mumbai, which is a big city, but I don\\'t think that\\'s the capital. Then there\\'s Bangalore and Kolkata, but those are more known for other reasons. Delhi itself is a major city, and I think the government is centered there. So maybe the capital is officially Delhi, with New Delhi being the specific area where the government buildings are located.\\n\\nI should also consider the structure of India\\'s government. India is a republic, so it likely has a specific city designated as the capital where the parliament and other central government institutions are located. I\\'ve heard terms like \"Union Territory\" in relation to Delhi, which might mean it\\'s a special area governed directly by the federal government, similar to how Washington D.C. is a federal district in the U.S.\\n\\nWait, so is the capital New Delhi or Delhi? I think New Delhi is the part of Delhi that was built by the British as the capital, and it\\'s where the central government is. So the official capital is New Delhi, which is within the larger city of Delhi. That makes sense because sometimes cities have specific districts that serve as the administrative center.\\n\\nI should also recall any recent information or changes. I don\\'t think the capital has moved recently, so it\\'s been New Delhi for a long time. Maybe since India gained independence, New Delhi has been the capital. Before that, during the British Raj, Calcutta was the capital, but that changed after independence.\\n\\nSo putting it all together, I think the capital of India is New Delhi. It\\'s a part of the larger city of Delhi and serves as the administrative and governmental center. The confusion might come from whether it\\'s referred to as Delhi or New Delhi, but I believe the official capital is New Delhi.\\n'}, response_metadata={'token_usage': {'completion_tokens': 533, 'prompt_tokens': 9, 'total_tokens': 542, 'completion_time': 2.339122717, 'prompt_time': 0.009844605, 'queue_time': 0.051844815, 'total_time': 2.348967322}, 'model_name': 'deepseek-r1-distill-llama-70b', 'system_fingerprint': 'fp_1bbe7845ec', 'service_tier': 'on_demand', 'finish_reason': 'stop', 'logprobs': None}, id='run--213cfa13-3cc4-42ac-bd51-589b8c5b2397-0', usage_metadata={'input_tokens': 9, 'output_tokens': 533, 'total_tokens': 542}), HumanMessage(content='hi there', additional_kwargs={}, response_metadata={}, id='7c078139-9b21-42f5-8fd0-fab70359b789'), AIMessage(content='Hello! How can I assist you today?', additional_kwargs={'reasoning_content': 'Alright, the user just said \"hi there.\" That\\'s a friendly greeting. I should respond in a warm and welcoming manner. Maybe say hello back and offer assistance. I want to make sure they feel comfortable asking for help. Let me keep it simple and open-ended so they know I\\'m here to assist with whatever they need.\\n'}, response_metadata={'token_usage': {'completion_tokens': 81, 'prompt_tokens': 66, 'total_tokens': 147, 'completion_time': 0.453930076, 'prompt_time': 0.015037129, 'queue_time': 0.049881661, 'total_time': 0.468967205}, 'model_name': 'deepseek-r1-distill-llama-70b', 'system_fingerprint': 'fp_1bbe7845ec', 'service_tier': 'on_demand', 'finish_reason': 'stop', 'logprobs': None}, id='run--d96b2f8a-1e4a-42de-9b12-ff6789305902-0', usage_metadata={'input_tokens': 66, 'output_tokens': 81, 'total_tokens': 147}), HumanMessage(content='hello', additional_kwargs={}, response_metadata={}, id='904215bb-e688-4d95-abf2-733a20ed96ec'), AIMessage(content='Hello! How can I assist you today?', additional_kwargs={'reasoning_content': 'Alright, the user just said \"hello.\" Looking back at the conversation history, they previously asked about the capital of India, and I provided a detailed answer. Now, they\\'re greeting me again. I should respond in a friendly and approachable manner. Maybe say hello back and offer assistance to keep the conversation going. I want to make sure they feel comfortable asking for help if they need anything else. So, I\\'ll keep it simple and open-ended.\\n'}, response_metadata={'token_usage': {'completion_tokens': 106, 'prompt_tokens': 79, 'total_tokens': 185, 'completion_time': 0.547099576, 'prompt_time': 0.029722763, 'queue_time': 0.051896037, 'total_time': 0.576822339}, 'model_name': 'deepseek-r1-distill-llama-70b', 'system_fingerprint': 'fp_1bbe7845ec', 'service_tier': 'on_demand', 'finish_reason': 'stop', 'logprobs': None}, id='run--4cd027b5-f9f5-418d-b1b2-ffa7083131aa-0', usage_metadata={'input_tokens': 79, 'output_tokens': 106, 'total_tokens': 185}), HumanMessage(content='ummha', additional_kwargs={}, response_metadata={}, id='6624d5d3-1449-4c8d-a4b8-026fd505b0d6')]\n",
      "Bot: It seems like you might be trying to say something, but I'm not entirely sure what you mean by \"ummha.\" Could you please clarify or provide more context so I can assist you better?\n",
      "Exiting chat.\n"
     ]
    }
   ],
   "source": [
    "while True:\n",
    "    user_input = input(\"You: \")\n",
    "    if user_input.lower() in ['exit', 'quit']:\n",
    "        print(\"Exiting chat.\")\n",
    "        break\n",
    "    initial_state = {\n",
    "        'messages': result['messages'] + [HumanMessage(content=user_input)]\n",
    "    }\n",
    "    result = chatbot.invoke(initial_state)\n",
    "    print(\"Bot:\", result['messages'][-1].content)"
   ]
  },
  {
   "cell_type": "markdown",
   "id": "c639889d",
   "metadata": {},
   "source": [
    "## ---------------------------------------   check pointe instead of stacking manually "
   ]
  },
  {
   "cell_type": "code",
   "execution_count": 1,
   "id": "6fc5d66e",
   "metadata": {},
   "outputs": [
    {
     "name": "stdout",
     "output_type": "stream",
     "text": [
      "The capital of India is New Delhi. It is a part of the larger city of Delhi and serves as the administrative and governmental center, housing the central government institutions. New Delhi was established by the British as the capital and has remained so since India's independence.\n"
     ]
    }
   ],
   "source": [
    "from langchain_groq import ChatGroq\n",
    "from dotenv import load_dotenv\n",
    "import os\n",
    "\n",
    "load_dotenv()\n",
    "groq_api_key = os.getenv(\"GROQ_API\")\n",
    "\n",
    "llm = ChatGroq(\n",
    "    api_key=groq_api_key,\n",
    "    model=\"deepseek-r1-distill-llama-70b\",\n",
    "    temperature=0,\n",
    "    max_tokens=None,\n",
    "    reasoning_format=\"parsed\",\n",
    "    timeout=None,\n",
    "    max_retries=2,\n",
    ")\n",
    "\n",
    "from langgraph.graph import StateGraph, START, END\n",
    "from typing import TypedDict, Annotated\n",
    "from langchain_core.messages import BaseMessage, HumanMessage, AIMessage\n",
    "from langgraph.graph.message import add_messages\n",
    "from langgraph.checkpoint.memory import MemorySaver\n",
    "\n",
    "class ChatState(TypedDict):\n",
    "    messages: Annotated[list[BaseMessage], add_messages]\n",
    "\n",
    "def chat_node(state: ChatState):\n",
    "    # assume state['messages'] already has history if any\n",
    "    messages = state.get('messages', [])\n",
    "    response: AIMessage = llm.invoke(messages)\n",
    "    # return only new message; use add_messages to append\n",
    "    return {'messages': [response]}\n",
    "\n",
    "# build graph\n",
    "builder = StateGraph(ChatState)\n",
    "builder.add_node('chat_node', chat_node)\n",
    "# add edges\n",
    "builder.add_edge(START, 'chat_node')\n",
    "builder.add_edge('chat_node', END)\n",
    "\n",
    "# use MemorySaver checkpointer\n",
    "memory = MemorySaver()\n",
    "chatbot = builder.compile(checkpointer=memory)\n",
    "\n",
    "# when invoking\n",
    "initial_state = {\n",
    "    'messages': [HumanMessage(content='What is the capital of India')]\n",
    "}\n",
    "\n",
    "config = {\"configurable\": {\"thread_id\": \"thread1\"}}\n",
    "output = chatbot.invoke(initial_state, config=config)\n",
    "print(output['messages'][-1].content)\n",
    "\n",
    "# second invocation using same thread_id will load the past messages automatically\n"
   ]
  },
  {
   "cell_type": "code",
   "execution_count": 2,
   "id": "3cdb2a0f",
   "metadata": {},
   "outputs": [
    {
     "data": {
      "text/plain": [
       "StateSnapshot(values={'messages': [HumanMessage(content='What is the capital of India', additional_kwargs={}, response_metadata={}, id='4d9ec78f-9ce6-408c-b9b0-e25edcad109f'), AIMessage(content=\"The capital of India is New Delhi. It is a part of the larger city of Delhi and serves as the administrative and governmental center, housing the central government institutions. New Delhi was established by the British as the capital and has remained so since India's independence.\", additional_kwargs={'reasoning_content': 'Okay, so I need to figure out what the capital of India is. Hmm, I\\'m not entirely sure, but I think it\\'s a city that starts with an \\'N\\'. Maybe New Delhi? I\\'ve heard that name before in the context of India. But wait, is New Delhi the capital, or is it just a part of the capital? I remember learning that sometimes countries have a federal district as their capital, like Washington D.C. in the United States. So perhaps New Delhi is part of a larger area that serves as the capital.\\n\\nLet me think about other cities in India. There\\'s Mumbai, which is a big city, but I don\\'t think that\\'s the capital. Then there\\'s Bangalore and Kolkata, but those are more known for other reasons. Delhi itself is a major city, and I think the government is centered there. So maybe the capital is officially Delhi, with New Delhi being the specific area where the government buildings are located.\\n\\nI should also consider the structure of India\\'s government. India is a republic, so it likely has a specific city designated as the capital where the parliament and other central government institutions are located. I\\'ve heard terms like \"Union Territory\" in relation to Delhi, which might mean it\\'s a special area governed directly by the federal government, similar to how Washington D.C. is a federal district in the U.S.\\n\\nWait, so is the capital New Delhi or Delhi? I think New Delhi is the part of Delhi that was built by the British as the capital, and it\\'s where the central government is. So the official capital is New Delhi, which is within the larger city of Delhi. That makes sense because sometimes cities have specific districts that serve as the administrative center.\\n\\nI should also recall any recent information or changes. I don\\'t think the capital has moved recently, so it\\'s been New Delhi for a long time. Maybe since India gained independence, New Delhi has been the capital. Before that, during the British Raj, Calcutta was the capital, but that changed after independence.\\n\\nSo putting it all together, I think the capital of India is New Delhi. It\\'s a part of the larger city of Delhi and serves as the administrative and governmental center. The confusion might come from whether it\\'s referred to as Delhi or New Delhi, but I believe the official capital is New Delhi.\\n'}, response_metadata={'token_usage': {'completion_tokens': 533, 'prompt_tokens': 9, 'total_tokens': 542, 'completion_time': 2.2966958699999998, 'prompt_time': 0.009908566, 'queue_time': 0.045772604, 'total_time': 2.3066044359999998}, 'model_name': 'deepseek-r1-distill-llama-70b', 'system_fingerprint': 'fp_1bbe7845ec', 'service_tier': 'on_demand', 'finish_reason': 'stop', 'logprobs': None}, id='run--c65ffbe2-e968-4475-b021-dd42e1d1befb-0', usage_metadata={'input_tokens': 9, 'output_tokens': 533, 'total_tokens': 542})]}, next=(), config={'configurable': {'thread_id': 'thread1', 'checkpoint_ns': '', 'checkpoint_id': '1f09638d-0997-614c-8001-ed3f27106109'}}, metadata={'source': 'loop', 'step': 1, 'parents': {}}, created_at='2025-09-20T15:45:21.053689+00:00', parent_config={'configurable': {'thread_id': 'thread1', 'checkpoint_ns': '', 'checkpoint_id': '1f09638c-ed00-6db0-8000-e11ecc3ac151'}}, tasks=(), interrupts=())"
      ]
     },
     "execution_count": 2,
     "metadata": {},
     "output_type": "execute_result"
    }
   ],
   "source": [
    "chatbot.get_state(config=config)"
   ]
  },
  {
   "cell_type": "code",
   "execution_count": null,
   "id": "a82f114a",
   "metadata": {},
   "outputs": [],
   "source": []
  }
 ],
 "metadata": {
  "kernelspec": {
   "display_name": "genAi",
   "language": "python",
   "name": "python3"
  },
  "language_info": {
   "codemirror_mode": {
    "name": "ipython",
    "version": 3
   },
   "file_extension": ".py",
   "mimetype": "text/x-python",
   "name": "python",
   "nbconvert_exporter": "python",
   "pygments_lexer": "ipython3",
   "version": "3.12.3"
  }
 },
 "nbformat": 4,
 "nbformat_minor": 5
}
